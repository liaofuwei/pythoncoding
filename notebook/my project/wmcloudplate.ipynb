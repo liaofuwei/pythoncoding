{
 "cells": [
  {
   "cell_type": "code",
   "execution_count": 1,
   "metadata": {
    "collapsed": true
   },
   "outputs": [],
   "source": [
    "# dataapi\n",
    "\n",
    "# -*- coding: utf-8 -*-\n",
    "import httplib\n",
    "import traceback\n",
    "import urllib\n",
    "HTTP_OK = 200\n",
    "HTTP_AUTHORIZATION_ERROR = 401\n",
    "class Client:\n",
    "    domain = 'api.wmcloud.com'\n",
    "    port = 443\n",
    "    token = ''\n",
    "    httpClient = None\n",
    "    #设置因网络连接，重连的次数\n",
    "    reconnectTimes=3\n",
    "    def __init__( self ):\n",
    "        self.httpClient = httplib.HTTPSConnection(self.domain, self.port, timeout=60)\n",
    "    def __del__( self ):\n",
    "        if self.httpClient is not None:\n",
    "            self.httpClient.close()\n",
    "    def encodepath(self, path):\n",
    "        #转换参数的编码\n",
    "        start=0\n",
    "        n=len(path)\n",
    "        re=''\n",
    "        i=path.find('=',start)\n",
    "        if(i==-1):\n",
    "            return path\n",
    "        while i!=-1 :\n",
    "            re+=path[start:i+1]\n",
    "            start=i+1\n",
    "            i=path.find('&',start)\n",
    "            if(i>=0):\n",
    "                for j in range(start,i):\n",
    "                    if(path[j]>'~'):\n",
    "                        re+=urllib.quote(path[j])\n",
    "                    else:\n",
    "                        re+=path[j]  \n",
    "                re+='&'\n",
    "                start=i+1\n",
    "            else:\n",
    "                for j in range(start,n):\n",
    "                    if(path[j]>'~'):\n",
    "                        re+=urllib.quote(path[j])\n",
    "                    else:\n",
    "                        re+=path[j]  \n",
    "                start=n\n",
    "            i=path.find('=',start)\n",
    "        return re\n",
    "    def init(self, token):\n",
    "        self.token=token\n",
    "    def getData(self, path):\n",
    "        result = None\n",
    "        path='/data/v1'+path\n",
    "        path=self.encodepath(path)\n",
    "        print path\n",
    "        for i in range(self.reconnectTimes):\n",
    "            try:\n",
    "                #set http header here\n",
    "                self.httpClient.request('GET', path, headers = {\"Authorization\": \"Bearer \" + self.token})\n",
    "                #make request\n",
    "                response = self.httpClient.getresponse()\n",
    "                #read result\n",
    "                if response.status == HTTP_OK:\n",
    "                    #parse json into python primitive object\n",
    "                    result = response.read()\n",
    "                else:\n",
    "                    result = response.read()\n",
    "                if(path.find('.csv?')==-1):\n",
    "                    result=result.decode('utf-8').encode('GB18030')\n",
    "                return response.status, result\n",
    "            except Exception, e:\n",
    "                #网络连接失败，关闭当前连接，再重新建立\n",
    "                print i\n",
    "                if self.httpClient is not None:\n",
    "                    self.httpClient.close()\n",
    "                self.httpClient = httplib.HTTPSConnection(self.domain, self.port, timeout=60)\n",
    "        return -1,'cannot connect '+str(self.reconnectTimes)+' times'\n"
   ]
  },
  {
   "cell_type": "code",
   "execution_count": 2,
   "metadata": {
    "collapsed": false
   },
   "outputs": [
    {
     "ename": "ImportError",
     "evalue": "No module named dataapi",
     "output_type": "error",
     "traceback": [
      "\u001b[1;31m---------------------------------------------------------------------------\u001b[0m",
      "\u001b[1;31mImportError\u001b[0m                               Traceback (most recent call last)",
      "\u001b[1;32m<ipython-input-2-6c61b68dcee2>\u001b[0m in \u001b[0;36m<module>\u001b[1;34m()\u001b[0m\n\u001b[0;32m      1\u001b[0m \u001b[1;31m#simplycode\u001b[0m\u001b[1;33m\u001b[0m\u001b[1;33m\u001b[0m\u001b[0m\n\u001b[0;32m      2\u001b[0m \u001b[1;33m\u001b[0m\u001b[0m\n\u001b[1;32m----> 3\u001b[1;33m \u001b[1;32mfrom\u001b[0m \u001b[0mdataapi\u001b[0m \u001b[1;32mimport\u001b[0m \u001b[0mClient\u001b[0m\u001b[1;33m\u001b[0m\u001b[0m\n\u001b[0m\u001b[0;32m      4\u001b[0m \u001b[1;32mif\u001b[0m \u001b[0m__name__\u001b[0m \u001b[1;33m==\u001b[0m \u001b[1;34m\"__main__\"\u001b[0m\u001b[1;33m:\u001b[0m\u001b[1;33m\u001b[0m\u001b[0m\n\u001b[0;32m      5\u001b[0m     \u001b[1;32mtry\u001b[0m\u001b[1;33m:\u001b[0m\u001b[1;33m\u001b[0m\u001b[0m\n",
      "\u001b[1;31mImportError\u001b[0m: No module named dataapi"
     ]
    }
   ],
   "source": [
    "#simplycode get fund nav\n",
    "# -*- coding: utf-8 -*-\n",
    "from dataapi import Client\n",
    "if __name__ == \"__main__\":\n",
    "    try:\n",
    "        client = Client()\n",
    "        client.init('ec401353e11cd728472e9027e6d900387511e6c3cf5b54d8f277b18cc45f6bcd')\n",
    "        url1='/api/fund/getFundNav.json?field=&beginDate=20151228&endDate=20151231&secID=&ticker=150175'\n",
    "        code, result = client.getData(url1)\n",
    "        if code==200:\n",
    "            '''\n",
    "            print result\n",
    "            secID=\"150175.XSHE\"\n",
    "            print result.find(secID)\n",
    "            lens_secID=len(secID)\n",
    "            print lens_secID\n",
    "            str=result[50:lens_secID]\n",
    "            print str\n",
    "            '''\n",
    "            #print \"data: \",result['data']\n",
    "            #-------------write to csv file---------------------------------------------\n",
    "            file_object = open('C:\\\\pythoncoding\\\\programming trade\\\\wmcloseplate\\\\150175.csv', 'w')\n",
    "            file_object.write(result)\n",
    "            file_object.close( )\n",
    "        else:\n",
    "            print code\n",
    "            print result\n",
    "    except Exception,e:\n",
    "        raise e\n",
    " "
   ]
  },
  {
   "cell_type": "code",
   "execution_count": null,
   "metadata": {
    "collapsed": true
   },
   "outputs": [],
   "source": [
    " url2='/api/subject/getThemesContent.csv?field=&themeID=&themeName=&isMain=1&themeSource='\n",
    "        code, result = client.getData(url2)\n",
    "        if(code==200):\n",
    "            file_object = open('thefile.csv', 'w')\n",
    "            file_object.write(result)\n",
    "            file_object.close( )\n",
    "        else:\n",
    "            print code\n",
    "            print result\n",
    "    except Exception, e:\n",
    "        #traceback.print_exc()\n",
    "        raise e"
   ]
  }
 ],
 "metadata": {
  "kernelspec": {
   "display_name": "Python 2",
   "language": "python",
   "name": "python2"
  },
  "language_info": {
   "codemirror_mode": {
    "name": "ipython",
    "version": 2
   },
   "file_extension": ".py",
   "mimetype": "text/x-python",
   "name": "python",
   "nbconvert_exporter": "python",
   "pygments_lexer": "ipython2",
   "version": "2.7.9"
  }
 },
 "nbformat": 4,
 "nbformat_minor": 0
}
