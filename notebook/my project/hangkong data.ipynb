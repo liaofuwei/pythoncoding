{
 "cells": [
  {
   "cell_type": "code",
   "execution_count": 1,
   "metadata": {
    "collapsed": true
   },
   "outputs": [],
   "source": [
    "import tushare as ts\n",
    "import pandas as pd"
   ]
  },
  {
   "cell_type": "code",
   "execution_count": 3,
   "metadata": {
    "collapsed": false
   },
   "outputs": [
    {
     "name": "stdout",
     "output_type": "stream",
     "text": [
      "[Getting data:]##################################################"
     ]
    }
   ],
   "source": [
    "report_data_2016_2 = ts.get_report_data(2016,2)"
   ]
  },
  {
   "cell_type": "code",
   "execution_count": 16,
   "metadata": {
    "collapsed": false
   },
   "outputs": [
    {
     "name": "stdout",
     "output_type": "stream",
     "text": [
      "     code  name   eps  eps_yoy  bvps    roe  epcf  net_profits  profits_yoy  \\\n",
      "0  603888   新华网  0.66      NaN  7.33   9.27  0.22     10219.22          NaN   \n",
      "1  603258  电魂网络  0.79      NaN  3.10  29.13  0.77     14196.80          NaN   \n",
      "2  300553  集智股份  0.43      NaN  4.59   9.58  0.26      1541.17          NaN   \n",
      "3  002817  黄山胶囊  0.50      NaN  5.31   9.78  0.24      3254.83          NaN   \n",
      "4  300550  和仁科技  0.30    76.47  3.87   8.00 -0.55      1784.67        76.32   \n",
      "\n",
      "  distrib report_date  \n",
      "0     NaN       10-10  \n",
      "1     NaN       09-30  \n",
      "2     NaN       09-29  \n",
      "3     NaN       09-28  \n",
      "4     NaN       09-28  \n"
     ]
    },
    {
     "data": {
      "text/html": [
       "<div>\n",
       "<table border=\"1\" class=\"dataframe\">\n",
       "  <thead>\n",
       "    <tr style=\"text-align: right;\">\n",
       "      <th></th>\n",
       "      <th>name</th>\n",
       "      <th>eps</th>\n",
       "      <th>bvps</th>\n",
       "      <th>roe</th>\n",
       "      <th>net_profits</th>\n",
       "    </tr>\n",
       "    <tr>\n",
       "      <th>code</th>\n",
       "      <th></th>\n",
       "      <th></th>\n",
       "      <th></th>\n",
       "      <th></th>\n",
       "      <th></th>\n",
       "    </tr>\n",
       "  </thead>\n",
       "  <tbody>\n",
       "    <tr>\n",
       "      <th>600029</th>\n",
       "      <td>南方航空</td>\n",
       "      <td>0.32</td>\n",
       "      <td>NaN</td>\n",
       "      <td>7.71</td>\n",
       "      <td>311100.00</td>\n",
       "    </tr>\n",
       "    <tr>\n",
       "      <th>600029</th>\n",
       "      <td>南方航空</td>\n",
       "      <td>0.32</td>\n",
       "      <td>NaN</td>\n",
       "      <td>7.71</td>\n",
       "      <td>311100.00</td>\n",
       "    </tr>\n",
       "    <tr>\n",
       "      <th>601111</th>\n",
       "      <td>中国国航</td>\n",
       "      <td>0.28</td>\n",
       "      <td>NaN</td>\n",
       "      <td>5.58</td>\n",
       "      <td>345762.10</td>\n",
       "    </tr>\n",
       "    <tr>\n",
       "      <th>600115</th>\n",
       "      <td>东方航空</td>\n",
       "      <td>0.25</td>\n",
       "      <td>NaN</td>\n",
       "      <td>8.81</td>\n",
       "      <td>323300.00</td>\n",
       "    </tr>\n",
       "    <tr>\n",
       "      <th>601318</th>\n",
       "      <td>中国平安</td>\n",
       "      <td>2.28</td>\n",
       "      <td>19.91</td>\n",
       "      <td>11.60</td>\n",
       "      <td>4077600.00</td>\n",
       "    </tr>\n",
       "    <tr>\n",
       "      <th>601318</th>\n",
       "      <td>中国平安</td>\n",
       "      <td>2.28</td>\n",
       "      <td>19.91</td>\n",
       "      <td>11.60</td>\n",
       "      <td>4077600.00</td>\n",
       "    </tr>\n",
       "    <tr>\n",
       "      <th>603888</th>\n",
       "      <td>新华网</td>\n",
       "      <td>0.66</td>\n",
       "      <td>7.33</td>\n",
       "      <td>9.27</td>\n",
       "      <td>10219.22</td>\n",
       "    </tr>\n",
       "  </tbody>\n",
       "</table>\n",
       "</div>"
      ],
      "text/plain": [
       "        name   eps   bvps    roe  net_profits\n",
       "code                                         \n",
       "600029  南方航空  0.32    NaN   7.71    311100.00\n",
       "600029  南方航空  0.32    NaN   7.71    311100.00\n",
       "601111  中国国航  0.28    NaN   5.58    345762.10\n",
       "600115  东方航空  0.25    NaN   8.81    323300.00\n",
       "601318  中国平安  2.28  19.91  11.60   4077600.00\n",
       "601318  中国平安  2.28  19.91  11.60   4077600.00\n",
       "603888   新华网  0.66   7.33   9.27     10219.22"
      ]
     },
     "execution_count": 16,
     "metadata": {},
     "output_type": "execute_result"
    }
   ],
   "source": [
    "print report_data_2016_2.head()\n",
    "codelist = [\"600029\",\"601111\",\"600115\",\"601318\",\"603888\"]\n",
    "nowdata = report_data_2016_2.set_index(\"code\")\n",
    "    \n",
    "nowdata.ix[codelist,[\"name\",\"eps\",\"bvps\",\"roe\",\"net_profits\"]]"
   ]
  },
  {
   "cell_type": "code",
   "execution_count": 17,
   "metadata": {
    "collapsed": false
   },
   "outputs": [
    {
     "data": {
      "text/plain": [
       "2954"
      ]
     },
     "execution_count": 17,
     "metadata": {},
     "output_type": "execute_result"
    }
   ],
   "source": [
    "len(report_data_2016_2)"
   ]
  },
  {
   "cell_type": "code",
   "execution_count": null,
   "metadata": {
    "collapsed": true
   },
   "outputs": [],
   "source": []
  }
 ],
 "metadata": {
  "anaconda-cloud": {},
  "kernelspec": {
   "display_name": "Python [default]",
   "language": "python",
   "name": "python2"
  },
  "language_info": {
   "codemirror_mode": {
    "name": "ipython",
    "version": 2
   },
   "file_extension": ".py",
   "mimetype": "text/x-python",
   "name": "python",
   "nbconvert_exporter": "python",
   "pygments_lexer": "ipython2",
   "version": "2.7.12"
  }
 },
 "nbformat": 4,
 "nbformat_minor": 1
}
