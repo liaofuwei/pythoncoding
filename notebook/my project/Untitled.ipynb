{
 "cells": [
  {
   "cell_type": "code",
   "execution_count": null,
   "metadata": {
    "collapsed": true
   },
   "outputs": [],
   "source": [
    "import pandas as pd\n",
    "import datetime\n",
    "import matplotlib.pyplot as plt\n",
    "%matplotlib inline\n",
    "#load treasury 10Years data\n",
    "TS10year=pd.read_excel('c:\\\\pythonCoding\\\\data\\\\sh-crude-nanhang.csv',header=None,encoding='utf-8')\n",
    "TS10year.columns=['date','yeild']\n",
    "TS10year.set_index('date')\n",
    "\n",
    "#load treasury 5years data\n",
    "TS5year=pd.read_excel('c:\\\\pythonCoding\\\\data\\\\treasury data\\\\5.xls',header=None,encoding='utf-8')\n",
    "TS5year.columns=['date','yeild']\n",
    "TS5year.set_index('date')\n",
    "#TS10year.plot()\n",
    "#plt.show()\n",
    "\n",
    "mergedata=pd.merge(TS10year,TS5year,on='date')#merge默认为将key相同的数据进行聚合，on指定按相同列的列名作为key\n",
    "mergedata.columns=['date','10year','5year']\n",
    "mergedata.set_index('date')\n",
    "mergedata.plot()"
   ]
  }
 ],
 "metadata": {
  "kernelspec": {
   "display_name": "Python 2",
   "language": "python",
   "name": "python2"
  },
  "language_info": {
   "codemirror_mode": {
    "name": "ipython",
    "version": 2
   },
   "file_extension": ".py",
   "mimetype": "text/x-python",
   "name": "python",
   "nbconvert_exporter": "python",
   "pygments_lexer": "ipython2",
   "version": "2.7.9"
  }
 },
 "nbformat": 4,
 "nbformat_minor": 0
}
