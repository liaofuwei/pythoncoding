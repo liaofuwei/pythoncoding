{
 "cells": [
  {
   "cell_type": "code",
   "execution_count": null,
   "metadata": {
    "collapsed": false,
    "scrolled": true
   },
   "outputs": [],
   "source": [
    "import pandas as pd\n",
    "import numpy as np\n",
    "import MySQLdb\n",
    "\n",
    "col_name = ['name','gender','counter']\n",
    "\n",
    "names = pd.read_csv(\"c:\\\\pythoncoding\\\\us name\\\\names\\\\yob1880.txt\",names = col_name)\n",
    "names['year'] = 1880\n",
    "\n",
    "for i in range(1881,2011):\n",
    "    path = \"c:\\\\pythoncoding\\\\us name\\\\names\\\\yob\" + str(i) + \".txt\"\n",
    "    tmp = pd.read_csv(path,names = col_name)\n",
    "    tmp['year'] = i\n",
    "    names = pd.concat([names,tmp],ignore_index=True)    \n",
    "    \n",
    "#print names\n",
    "\n"
   ]
  },
  {
   "cell_type": "code",
   "execution_count": null,
   "metadata": {
    "collapsed": false
   },
   "outputs": [],
   "source": [
    "#写入mysql，当前已经写入，不要重复\n",
    "db = MySQLdb.connect(\"localhost\",\"root\",\"root\",\"mydata\" )\n",
    "cursor = db.cursor()\n",
    "\n",
    "sql = '''insert into usNames \n",
    "         (name,gender,counter,year) \n",
    "         values \n",
    "         (%s,%s,%s,%s)\n",
    "'''\n",
    "for i in range(len(names)):\n",
    "    sqllist = list(names.ix[i,['name','gender','counter','year']])\n",
    "    cursor.execute(sql,sqllist)\n",
    "    db.commit()\n",
    "\n",
    "\n",
    "db.close()"
   ]
  },
  {
   "cell_type": "code",
   "execution_count": null,
   "metadata": {
    "collapsed": false
   },
   "outputs": [],
   "source": []
  },
  {
   "cell_type": "code",
   "execution_count": null,
   "metadata": {
    "collapsed": false
   },
   "outputs": [],
   "source": [
    "\n",
    "    "
   ]
  },
  {
   "cell_type": "code",
   "execution_count": null,
   "metadata": {
    "collapsed": false
   },
   "outputs": [],
   "source": [
    "\n"
   ]
  },
  {
   "cell_type": "code",
   "execution_count": null,
   "metadata": {
    "collapsed": true
   },
   "outputs": [],
   "source": []
  }
 ],
 "metadata": {
  "kernelspec": {
   "display_name": "Python [default]",
   "language": "python",
   "name": "python2"
  },
  "language_info": {
   "codemirror_mode": {
    "name": "ipython",
    "version": 2
   },
   "file_extension": ".py",
   "mimetype": "text/x-python",
   "name": "python",
   "nbconvert_exporter": "python",
   "pygments_lexer": "ipython2",
   "version": "2.7.12"
  }
 },
 "nbformat": 4,
 "nbformat_minor": 0
}
