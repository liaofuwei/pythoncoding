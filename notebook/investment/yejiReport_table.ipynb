{
 "cells": [
  {
   "cell_type": "code",
   "execution_count": null,
   "metadata": {
    "collapsed": true
   },
   "outputs": [],
   "source": [
    "# encoding = utf-8 \n",
    "import pandas as pd\n",
    "import numpy as np\n",
    "import MySQLdb\n",
    "import tushare as ts\n",
    "\n",
    "import sys\n",
    "default_encoding = 'utf-8'\n",
    "if sys.getdefaultencoding() != default_encoding:\n",
    "    reload(sys)\n",
    "    sys.setdefaultencoding(default_encoding)\n"
   ]
  },
  {
   "cell_type": "code",
   "execution_count": null,
   "metadata": {
    "collapsed": false
   },
   "outputs": [],
   "source": [
    "data = ts.get_report_data(2006,1)"
   ]
  },
  {
   "cell_type": "code",
   "execution_count": null,
   "metadata": {
    "collapsed": false
   },
   "outputs": [],
   "source": [
    "def unicode2utf8(s):\n",
    "    s.decode().encode('utf8')\n",
    "\n",
    "data['name'] = data['name'].map(unicode2utf8)\n",
    "data['name']\n"
   ]
  },
  {
   "cell_type": "code",
   "execution_count": null,
   "metadata": {
    "collapsed": false
   },
   "outputs": [],
   "source": [
    "s=data.ix[0,['code','name','esp','eps_yoy','bvps','roe','epcf','net_profits','profits_yoy','distrib','report_date']]\n",
    "s['name'].decode().encode('utf8')"
   ]
  },
  {
   "cell_type": "code",
   "execution_count": null,
   "metadata": {
    "collapsed": true
   },
   "outputs": [],
   "source": [
    "\n",
    "\n"
   ]
  },
  {
   "cell_type": "code",
   "execution_count": null,
   "metadata": {
    "collapsed": false
   },
   "outputs": [],
   "source": [
    "db = MySQLdb.connect(\"localhost\",\"root\",\"root\",\"listedcompany\" )\n",
    "cursor = db.cursor()\n",
    "\n",
    "sqllist = []\n",
    "for i in range(len(data)):\n",
    "    tmplist = list(data.ix[i,['code','name','esp','eps_yoy','bvps','roe','epcf','net_profits','profits_yoy','distrib','report_date']])\n",
    "    sqllist.append(tmplist)\n",
    "\n",
    "sql = '''insert into yejireport_200601 \n",
    "         (code,name,esp,eps_yoy,bvps,roe,epcf,net_profits,profits_yoy,distrib,report_date) \n",
    "         values \n",
    "         (%s,%s,%s,%s,%s,%s,%s,%s,%s,%s,%s)\n",
    "'''\n",
    "\n",
    "cursor.executemany(sql,sqllist)\n",
    "db.commit()\n",
    "\n",
    "\n",
    "db.close()"
   ]
  },
  {
   "cell_type": "code",
   "execution_count": null,
   "metadata": {
    "collapsed": false
   },
   "outputs": [],
   "source": [
    "\n",
    "ts.get_report_data(2014,3)"
   ]
  },
  {
   "cell_type": "code",
   "execution_count": null,
   "metadata": {
    "collapsed": false
   },
   "outputs": [],
   "source": [
    "ts.get_profit_data(2014,3)"
   ]
  },
  {
   "cell_type": "code",
   "execution_count": null,
   "metadata": {
    "collapsed": false
   },
   "outputs": [],
   "source": [
    "ts.get_profit_data(2010,3)"
   ]
  },
  {
   "cell_type": "code",
   "execution_count": null,
   "metadata": {
    "collapsed": false
   },
   "outputs": [],
   "source": [
    "ts.get_profit_data(2006,3)"
   ]
  },
  {
   "cell_type": "code",
   "execution_count": null,
   "metadata": {
    "collapsed": true
   },
   "outputs": [],
   "source": []
  }
 ],
 "metadata": {
  "anaconda-cloud": {},
  "kernelspec": {
   "display_name": "Python [default]",
   "language": "python",
   "name": "python2"
  },
  "language_info": {
   "codemirror_mode": {
    "name": "ipython",
    "version": 2
   },
   "file_extension": ".py",
   "mimetype": "text/x-python",
   "name": "python",
   "nbconvert_exporter": "python",
   "pygments_lexer": "ipython2",
   "version": "2.7.12"
  }
 },
 "nbformat": 4,
 "nbformat_minor": 1
}
