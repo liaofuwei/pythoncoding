{
 "cells": [
  {
   "cell_type": "code",
   "execution_count": 1,
   "metadata": {
    "collapsed": false
   },
   "outputs": [],
   "source": [
    "import pandas as pd\n",
    "import datetime\n",
    "import matplotlib.pyplot as plt\n",
    "import numpy as np\n",
    "\n"
   ]
  },
  {
   "cell_type": "code",
   "execution_count": 21,
   "metadata": {
    "collapsed": false
   },
   "outputs": [],
   "source": [
    "#获取国债数据\n",
    "#t0m = pd.read_csv(\"c:\\\\pythoncoding\\\\data\\\\treasury data\\\\0y.csv\",index_col=\"date\")\n",
    "#t1m = pd.read_csv(\"c:\\\\pythoncoding\\\\data\\\\treasury data\\\\1m.csv\",index_col=\"date\")\n",
    "t1y = pd.read_csv(\"c:\\\\pythoncoding\\\\data\\\\treasury data\\\\1y.csv\",index_col=\"date\")\n",
    "t1y.index=pd.to_datetime(t1y.index)\n",
    "#t3y = pd.read_csv(\"c:\\\\pythoncoding\\\\data\\\\treasury data\\\\3y.csv\",index_col=\"date\")\n",
    "t5y = pd.read_csv(\"c:\\\\pythoncoding\\\\data\\\\treasury data\\\\5y.csv\",index_col=\"date\")\n",
    "t5y.index=pd.to_datetime(t5y.index)\n",
    "#t7y = pd.read_csv(\"c:\\\\pythoncoding\\\\data\\\\treasury data\\\\7y.csv\",index_col=\"date\")\n",
    "t10y = pd.read_csv(\"c:\\\\pythoncoding\\\\data\\\\treasury data\\\\10y.csv\",index_col=\"date\")\n",
    "t10y.index=pd.to_datetime(t10y.index)\n",
    "\n",
    "tmp = pd.merge(t1y,t5y,left_index=True,right_index=True)\n",
    "\n",
    "#tmp = pd.merge(tmp,t10y,left_index=True,right_index=True)\n",
    "\n",
    "#tmp = pd.merge(tmp,t3y,left_index=True,right_index=True)\n",
    "\n",
    "#tmp = pd.merge(tmp,t5y,left_index=True,right_index=True)\n",
    "\n",
    "#tmp = pd.merge(tmp,t7y,left_index=True,right_index=True)\n",
    "\n",
    "treasury = pd.merge(tmp,t10y,left_index=True,right_index=True)\n",
    "treasury['5y-1y']=treasury['5y']-treasury['1y']\n",
    "treasury['10y-1y']=treasury['10y']-treasury['1y']\n",
    "treasury['10y-5y']=treasury['10y']-treasury['5y']\n",
    "\n",
    "#treasury.ix[:,['10y-1y']].plot()\n",
    "\n",
    "#plt.show()\n",
    "treasury.to_csv(\"c:\\\\pythoncoding\\\\data\\\\treasury data\\\\treasury_new1.csv\")"
   ]
  },
  {
   "cell_type": "code",
   "execution_count": 24,
   "metadata": {
    "collapsed": false,
    "scrolled": true
   },
   "outputs": [],
   "source": [
    "#获取利率，cpi，ppi数据,及利率与cpi关系图\n",
    "deposit = pd.read_csv(\"c:\\\\pythoncoding\\\\data\\\\money\\\\1ydeposit.csv\",index_col=\"date\")\n",
    "deposit.index = pd.to_datetime(deposit.index)\n",
    "\n",
    "cpi = pd.read_csv(\"c:\\\\pythoncoding\\\\data\\\\money\\\\cpi_yoy.csv\",index_col=\"date\")\n",
    "cpi.index = pd.to_datetime(cpi.index)\n",
    "\n",
    "ppi = pd.read_csv(\"c:\\\\pythoncoding\\\\data\\\\money\\\\ppi_yoy.csv\",index_col=\"date\")\n",
    "ppi.index = pd.to_datetime(ppi.index)\n",
    "\n",
    "m2yoy = pd.read_csv(\"c:\\\\pythoncoding\\\\data\\\\money\\\\m2_yoy.csv\",index_col = \"date\")\n",
    "m2yoy.index = pd.to_datetime(m2yoy.index)\n",
    "\n",
    "m1yoy = pd.read_csv(\"c:\\\\pythoncoding\\\\data\\\\money\\\\m1_yoy.csv\",index_col = \"date\")\n",
    "m1yoy.index = pd.to_datetime(m1yoy.index)\n",
    "\n",
    "standard = pd.read_csv(\"c:\\\\pythoncoding\\\\data\\\\money\\\\standard.csv\",index_col=\"date\")\n",
    "standard.index = pd.to_datetime(standard.index)\n",
    "\n",
    "deposit_full = pd.merge(standard,deposit,left_index=True,right_index=True,how=\"outer\")\n",
    "deposit_full = deposit_full.ix[\"2000-01-01\":\"2016-03-31\",[\"1y:deposit\"]]\n",
    "deposit_full = deposit_full.fillna(method=\"ffill\")\n",
    "\n",
    "cpi_full = pd.merge(standard,cpi,left_index=True,right_index=True,how=\"outer\")\n",
    "cpi_full = cpi_full.ix[\"2000-01-01\":\"2016-03-31\",[\"cpi:yoy\"]]\n",
    "cpi_full = cpi_full.fillna(method=\"ffill\")\n",
    "\n",
    "ppi_full = pd.merge(standard,ppi,left_index=True,right_index=True,how=\"outer\")\n",
    "ppi_full = ppi_full.ix[\"2000-01-01\":\"2016-03-31\",[\"ppi:yoy\"]]\n",
    "ppi_full = ppi_full.fillna(method=\"ffill\")\n",
    "\n",
    "m2yoy_full = pd.merge(standard,m2yoy,left_index=True,right_index=True,how=\"outer\")\n",
    "m2yoy_full = m2yoy_full.ix[\"2000-01-01\":,[\"m2_yoy\"]]\n",
    "m2yoy_full = m2yoy_full.fillna(method=\"ffill\")\n",
    "\n",
    "m1yoy_full = pd.merge(standard,m1yoy,left_index=True,right_index=True,how=\"outer\")\n",
    "m1yoy_full = m1yoy_full.ix[\"2000-01-01\":\"2016-03-31\",[\"m1:yoy\"]]\n",
    "m1yoy_full = m1yoy_full.fillna(method=\"bfill\")\n",
    "\n",
    "depositVscpi = pd.merge(cpi_full,deposit_full,left_index=True,right_index=True)\n",
    "deposit_cpi_ppi = pd.merge(depositVscpi,ppi_full,left_index=True,right_index=True)\n",
    "deposit_cpi_ppi_m2 = pd.merge(deposit_cpi_ppi,m2yoy_full,left_index=True,right_index=True)\n",
    "deposit_cpi_ppi_m2_m1 = pd.merge(deposit_cpi_ppi_m2,m1yoy_full,left_index=True,right_index=True)\n",
    "\n",
    "\n",
    "deposit_cpi_ppi_m2_m1 = deposit_cpi_ppi_m2_m1.ix[\"2001-01-01\":\"2016-03-31\",[\"cpi:yoy\",\"1y:deposit\",\"ppi:yoy\",\"m2_yoy\",\"m1:yoy\"]]\n",
    "\n",
    "deposit_cpi_ppi_m2_m1.plot()\n",
    "plt.show()\n",
    "#deposit_full.to_csv(\"c:\\\\pythoncoding\\\\data\\\\money\\\\deposit_full.csv\")\n",
    "#cpi_full.to_csv(\"c:\\\\pythoncoding\\\\data\\\\money\\\\cpi_full.csv\")"
   ]
  },
  {
   "cell_type": "code",
   "execution_count": 37,
   "metadata": {
    "collapsed": false,
    "scrolled": true
   },
   "outputs": [],
   "source": [
    "sh_index = pd.read_csv(\"c:\\\\pythoncoding\\\\data\\\\index\\\\999999.csv\",index_col=\"date\")\n",
    "sh_index.index = pd.to_datetime(sh_index.index)\n",
    "\n",
    "m1yoy = pd.read_csv(\"c:\\\\pythoncoding\\\\data\\\\money\\\\m1_yoy.csv\",index_col = \"date\")\n",
    "m1yoy.index = pd.to_datetime(m1yoy.index)\n",
    "standard = pd.read_csv(\"c:\\\\pythoncoding\\\\data\\\\money\\\\standard.csv\",index_col=\"date\")\n",
    "standard.index = pd.to_datetime(standard.index)\n",
    "m1yoy_full = pd.merge(standard,m1yoy,left_index=True,right_index=True,how=\"outer\")\n",
    "m1yoy_full = m1yoy_full.ix[\"1991-01-01\":\"2016-03-31\",[\"m1:yoy\"]]\n",
    "m1yoy_full = m1yoy_full.fillna(method=\"bfill\")\n",
    "\n",
    "sh_m1 = pd.merge(sh_index,m1yoy_full,left_index=True,right_index=True)\n",
    "sh_m1 = sh_m1.ix[\"1991-01-01\":\"2016-03-31\",[\"close\",\"m1:yoy\"]]\n",
    "#sh_m1.to_csv(\"c:\\\\pythoncoding\\\\data\\\\index\\\\shangzhengVsM1.csv\")\n",
    "\n",
    "#sh_m1[\"close\"].plot()\n",
    "#sh_m1[\"m1:yoy\"].plot(secondary_y=[\"m1:yoy\"])\n",
    "\n",
    "#---------------------------------\n",
    "sh_m1.plot(secondary_y=[\"m1:yoy\"])\n",
    "\n",
    "plt.show()\n",
    "\n"
   ]
  },
  {
   "cell_type": "code",
   "execution_count": 6,
   "metadata": {
    "collapsed": false
   },
   "outputs": [
    {
     "ename": "ValueError",
     "evalue": "If using all scalar values, you must pass an index",
     "output_type": "error",
     "traceback": [
      "\u001b[1;31m---------------------------------------------------------------------------\u001b[0m",
      "\u001b[1;31mValueError\u001b[0m                                Traceback (most recent call last)",
      "\u001b[1;32m<ipython-input-6-c8aad77ae3ac>\u001b[0m in \u001b[0;36m<module>\u001b[1;34m()\u001b[0m\n\u001b[0;32m      1\u001b[0m \u001b[1;31m# read csv which including china treasury data from 2002-2016\u001b[0m\u001b[1;33m\u001b[0m\u001b[1;33m\u001b[0m\u001b[0m\n\u001b[0;32m      2\u001b[0m \u001b[0mtd\u001b[0m \u001b[1;33m=\u001b[0m \u001b[0mpd\u001b[0m\u001b[1;33m.\u001b[0m\u001b[0mread_csv\u001b[0m\u001b[1;33m(\u001b[0m\u001b[1;34m\"c:\\\\pythoncoding\\\\data\\\\treasury data\\\\2002-2016.csv\"\u001b[0m\u001b[1;33m)\u001b[0m\u001b[1;33m\u001b[0m\u001b[0m\n\u001b[1;32m----> 3\u001b[1;33m \u001b[0mtreasuryData\u001b[0m \u001b[1;33m=\u001b[0m \u001b[0mpd\u001b[0m\u001b[1;33m.\u001b[0m\u001b[0mDataFrame\u001b[0m\u001b[1;33m(\u001b[0m\u001b[1;33m{\u001b[0m\u001b[1;34m'date'\u001b[0m\u001b[1;33m:\u001b[0m\u001b[1;34m'2002/01/03'\u001b[0m\u001b[1;33m,\u001b[0m\u001b[1;34m'0d'\u001b[0m\u001b[1;33m:\u001b[0m\u001b[1;36m0\u001b[0m\u001b[1;33m,\u001b[0m\u001b[1;34m'1m'\u001b[0m\u001b[1;33m:\u001b[0m\u001b[1;36m0\u001b[0m\u001b[1;33m,\u001b[0m\u001b[1;34m'2m'\u001b[0m\u001b[1;33m:\u001b[0m\u001b[1;36m0\u001b[0m\u001b[1;33m,\u001b[0m\u001b[1;34m'3m'\u001b[0m\u001b[1;33m:\u001b[0m\u001b[1;36m0\u001b[0m\u001b[1;33m,\u001b[0m\u001b[1;34m'6m'\u001b[0m\u001b[1;33m:\u001b[0m\u001b[1;36m0\u001b[0m\u001b[1;33m,\u001b[0m\u001b[1;34m'9m'\u001b[0m\u001b[1;33m:\u001b[0m\u001b[1;36m0\u001b[0m\u001b[1;33m,\u001b[0m\u001b[1;34m'1y'\u001b[0m\u001b[1;33m:\u001b[0m\u001b[1;36m0\u001b[0m\u001b[1;33m,\u001b[0m\u001b[1;34m'2y'\u001b[0m\u001b[1;33m:\u001b[0m\u001b[1;36m0\u001b[0m\u001b[1;33m,\u001b[0m\u001b[1;34m'3y'\u001b[0m\u001b[1;33m:\u001b[0m\u001b[1;36m0\u001b[0m\u001b[1;33m,\u001b[0m\u001b[1;34m'4y'\u001b[0m\u001b[1;33m:\u001b[0m\u001b[1;36m0\u001b[0m\u001b[1;33m,\u001b[0m\u001b[1;34m'5y'\u001b[0m\u001b[1;33m:\u001b[0m\u001b[1;36m0\u001b[0m\u001b[1;33m,\u001b[0m\u001b[1;34m'6y'\u001b[0m\u001b[1;33m:\u001b[0m\u001b[1;36m0\u001b[0m\u001b[1;33m,\u001b[0m\u001b[1;34m'7y'\u001b[0m\u001b[1;33m:\u001b[0m\u001b[1;36m0\u001b[0m\u001b[1;33m,\u001b[0m\u001b[1;34m'8y'\u001b[0m\u001b[1;33m:\u001b[0m\u001b[1;36m0\u001b[0m\u001b[1;33m,\u001b[0m\u001b[1;34m'9y'\u001b[0m\u001b[1;33m:\u001b[0m\u001b[1;36m0\u001b[0m\u001b[1;33m,\u001b[0m\u001b[1;34m'10y'\u001b[0m\u001b[1;33m:\u001b[0m\u001b[1;36m0\u001b[0m\u001b[1;33m,\u001b[0m\u001b[1;34m'15y'\u001b[0m\u001b[1;33m:\u001b[0m\u001b[1;36m0\u001b[0m\u001b[1;33m,\u001b[0m\u001b[1;34m'20y'\u001b[0m\u001b[1;33m:\u001b[0m\u001b[1;36m0\u001b[0m\u001b[1;33m,\u001b[0m\u001b[1;34m'30y'\u001b[0m\u001b[1;33m:\u001b[0m\u001b[1;36m0\u001b[0m\u001b[1;33m}\u001b[0m\u001b[1;33m)\u001b[0m\u001b[1;33m\u001b[0m\u001b[0m\n\u001b[0m\u001b[0;32m      4\u001b[0m \u001b[1;32mprint\u001b[0m \u001b[0mtreasuryData\u001b[0m\u001b[1;33m\u001b[0m\u001b[0m\n",
      "\u001b[1;32mC:\\Anaconda\\lib\\site-packages\\pandas\\core\\frame.pyc\u001b[0m in \u001b[0;36m__init__\u001b[1;34m(self, data, index, columns, dtype, copy)\u001b[0m\n\u001b[0;32m    212\u001b[0m                                  dtype=dtype, copy=copy)\n\u001b[0;32m    213\u001b[0m         \u001b[1;32melif\u001b[0m \u001b[0misinstance\u001b[0m\u001b[1;33m(\u001b[0m\u001b[0mdata\u001b[0m\u001b[1;33m,\u001b[0m \u001b[0mdict\u001b[0m\u001b[1;33m)\u001b[0m\u001b[1;33m:\u001b[0m\u001b[1;33m\u001b[0m\u001b[0m\n\u001b[1;32m--> 214\u001b[1;33m             \u001b[0mmgr\u001b[0m \u001b[1;33m=\u001b[0m \u001b[0mself\u001b[0m\u001b[1;33m.\u001b[0m\u001b[0m_init_dict\u001b[0m\u001b[1;33m(\u001b[0m\u001b[0mdata\u001b[0m\u001b[1;33m,\u001b[0m \u001b[0mindex\u001b[0m\u001b[1;33m,\u001b[0m \u001b[0mcolumns\u001b[0m\u001b[1;33m,\u001b[0m \u001b[0mdtype\u001b[0m\u001b[1;33m=\u001b[0m\u001b[0mdtype\u001b[0m\u001b[1;33m)\u001b[0m\u001b[1;33m\u001b[0m\u001b[0m\n\u001b[0m\u001b[0;32m    215\u001b[0m         \u001b[1;32melif\u001b[0m \u001b[0misinstance\u001b[0m\u001b[1;33m(\u001b[0m\u001b[0mdata\u001b[0m\u001b[1;33m,\u001b[0m \u001b[0mma\u001b[0m\u001b[1;33m.\u001b[0m\u001b[0mMaskedArray\u001b[0m\u001b[1;33m)\u001b[0m\u001b[1;33m:\u001b[0m\u001b[1;33m\u001b[0m\u001b[0m\n\u001b[0;32m    216\u001b[0m             \u001b[1;32mimport\u001b[0m \u001b[0mnumpy\u001b[0m\u001b[1;33m.\u001b[0m\u001b[0mma\u001b[0m\u001b[1;33m.\u001b[0m\u001b[0mmrecords\u001b[0m \u001b[1;32mas\u001b[0m \u001b[0mmrecords\u001b[0m\u001b[1;33m\u001b[0m\u001b[0m\n",
      "\u001b[1;32mC:\\Anaconda\\lib\\site-packages\\pandas\\core\\frame.pyc\u001b[0m in \u001b[0;36m_init_dict\u001b[1;34m(self, data, index, columns, dtype)\u001b[0m\n\u001b[0;32m    339\u001b[0m \u001b[1;33m\u001b[0m\u001b[0m\n\u001b[0;32m    340\u001b[0m         return _arrays_to_mgr(arrays, data_names, index, columns,\n\u001b[1;32m--> 341\u001b[1;33m                               dtype=dtype)\n\u001b[0m\u001b[0;32m    342\u001b[0m \u001b[1;33m\u001b[0m\u001b[0m\n\u001b[0;32m    343\u001b[0m     def _init_ndarray(self, values, index, columns, dtype=None,\n",
      "\u001b[1;32mC:\\Anaconda\\lib\\site-packages\\pandas\\core\\frame.pyc\u001b[0m in \u001b[0;36m_arrays_to_mgr\u001b[1;34m(arrays, arr_names, index, columns, dtype)\u001b[0m\n\u001b[0;32m   4796\u001b[0m     \u001b[1;31m# figure out the index, if necessary\u001b[0m\u001b[1;33m\u001b[0m\u001b[1;33m\u001b[0m\u001b[0m\n\u001b[0;32m   4797\u001b[0m     \u001b[1;32mif\u001b[0m \u001b[0mindex\u001b[0m \u001b[1;32mis\u001b[0m \u001b[0mNone\u001b[0m\u001b[1;33m:\u001b[0m\u001b[1;33m\u001b[0m\u001b[0m\n\u001b[1;32m-> 4798\u001b[1;33m         \u001b[0mindex\u001b[0m \u001b[1;33m=\u001b[0m \u001b[0mextract_index\u001b[0m\u001b[1;33m(\u001b[0m\u001b[0marrays\u001b[0m\u001b[1;33m)\u001b[0m\u001b[1;33m\u001b[0m\u001b[0m\n\u001b[0m\u001b[0;32m   4799\u001b[0m     \u001b[1;32melse\u001b[0m\u001b[1;33m:\u001b[0m\u001b[1;33m\u001b[0m\u001b[0m\n\u001b[0;32m   4800\u001b[0m         \u001b[0mindex\u001b[0m \u001b[1;33m=\u001b[0m \u001b[0m_ensure_index\u001b[0m\u001b[1;33m(\u001b[0m\u001b[0mindex\u001b[0m\u001b[1;33m)\u001b[0m\u001b[1;33m\u001b[0m\u001b[0m\n",
      "\u001b[1;32mC:\\Anaconda\\lib\\site-packages\\pandas\\core\\frame.pyc\u001b[0m in \u001b[0;36mextract_index\u001b[1;34m(data)\u001b[0m\n\u001b[0;32m   4835\u001b[0m \u001b[1;33m\u001b[0m\u001b[0m\n\u001b[0;32m   4836\u001b[0m         \u001b[1;32mif\u001b[0m \u001b[1;32mnot\u001b[0m \u001b[0mindexes\u001b[0m \u001b[1;32mand\u001b[0m \u001b[1;32mnot\u001b[0m \u001b[0mraw_lengths\u001b[0m\u001b[1;33m:\u001b[0m\u001b[1;33m\u001b[0m\u001b[0m\n\u001b[1;32m-> 4837\u001b[1;33m             raise ValueError('If using all scalar values, you must pass'\n\u001b[0m\u001b[0;32m   4838\u001b[0m                              ' an index')\n\u001b[0;32m   4839\u001b[0m \u001b[1;33m\u001b[0m\u001b[0m\n",
      "\u001b[1;31mValueError\u001b[0m: If using all scalar values, you must pass an index"
     ]
    }
   ],
   "source": [
    "# read csv which including china treasury data from 2002-2016\n",
    "td = pd.read_csv(\"c:\\\\pythoncoding\\\\data\\\\treasury data\\\\2002-2016.csv\")\n",
    "treasuryData = pd.DataFrame({'date':'2002/01/03','0d':0,'1m':0,'2m':0,'3m':0,'6m':0,'9m':0,'1y':0,'2y':0,'3y':0,'4y':0,'5y':0,'6y':0,'7y':0,'8y':0,'9y':0,'10y':0,'15y':0,'20y':0,'30y':0})\n",
    "print treasuryData"
   ]
  },
  {
   "cell_type": "code",
   "execution_count": 4,
   "metadata": {
    "collapsed": false
   },
   "outputs": [],
   "source": [
    "f5y = pd.read_csv(\"c:\\\\pythoncoding\\\\data\\\\treasury data\\\\tf-5y.csv\",index_col=\"date\")\n",
    "f5y.columns=['open-5y','high-5y','low-5y','close-5y','vol']\n",
    "f5y.index=pd.to_datetime(f5y.index)\n",
    "f5y['5y-close-open']=f5y['close-5y']-f5y['open-5y']\n",
    "\n",
    "f10y = pd.read_csv(\"c:\\\\pythoncoding\\\\data\\\\treasury data\\\\tf-10y.csv\",index_col=\"date\")\n",
    "f10y.columns=['open-10y','high-10y','low-10y','close-10y']\n",
    "f10y.index=pd.to_datetime(f10y.index)\n",
    "f10y['10y-close-open']=f10y['close-10y']-f10y['open-10y']\n",
    "\n",
    "treasury_future=pd.merge(f5y,f10y,left_index=True,right_index=True)\n",
    "\n",
    "\n",
    "t5y = pd.read_csv(\"c:\\\\pythoncoding\\\\data\\\\treasury data\\\\5y.csv\",index_col=\"date\")\n",
    "t5y.index=pd.to_datetime(t5y.index)\n",
    "#t7y = pd.read_csv(\"c:\\\\pythoncoding\\\\data\\\\treasury data\\\\7y.csv\",index_col=\"date\")\n",
    "t10y = pd.read_csv(\"c:\\\\pythoncoding\\\\data\\\\treasury data\\\\10y.csv\",index_col=\"date\")\n",
    "t10y.index=pd.to_datetime(t10y.index)\n",
    "\n",
    "treasury=pd.merge(t5y,t10y,left_index=True,right_index=True)\n",
    "treasury['10y-5y']=treasury['10y']-treasury['5y']\n",
    "tf_data=pd.merge(treasury_future,treasury,left_index=True,right_index=True)\n",
    "tf_data['5f-10f']=tf_data['close-5y']-tf_data['close-10y']\n",
    "#print tf_data\n",
    "tf_key=tf_data.ix[:,['close-5y','close-10y','10y-5y','5f-10f','5y-close-open','10y-close-open']]\n",
    "tf_key.to_csv(\"c:\\\\pythoncoding\\\\data\\\\treasury data\\\\tf_key2.csv\")\n"
   ]
  },
  {
   "cell_type": "code",
   "execution_count": null,
   "metadata": {
    "collapsed": true
   },
   "outputs": [],
   "source": []
  }
 ],
 "metadata": {
  "anaconda-cloud": {},
  "kernelspec": {
   "display_name": "Python [default]",
   "language": "python",
   "name": "python2"
  },
  "language_info": {
   "codemirror_mode": {
    "name": "ipython",
    "version": 2
   },
   "file_extension": ".py",
   "mimetype": "text/x-python",
   "name": "python",
   "nbconvert_exporter": "python",
   "pygments_lexer": "ipython2",
   "version": "2.7.12"
  }
 },
 "nbformat": 4,
 "nbformat_minor": 0
}
