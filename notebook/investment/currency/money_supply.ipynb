{
 "cells": [
  {
   "cell_type": "code",
   "execution_count": 3,
   "metadata": {
    "collapsed": false
   },
   "outputs": [
    {
     "data": {
      "text/plain": [
       "'\\ncd:\\xe6\\xb4\\xbb\\xe6\\x9c\\x9f\\xe5\\xad\\x98\\xe6\\xac\\xbe(\\xe4\\xba\\xbf\\xe5\\x85\\x83)\\nqm:\\xe5\\x87\\x86\\xe8\\xb4\\xa7\\xe5\\xb8\\x81(\\xe4\\xba\\xbf\\xe5\\x85\\x83)\\nftd:\\xe5\\xae\\x9a\\xe6\\x9c\\x9f\\xe5\\xad\\x98\\xe6\\xac\\xbe(\\xe4\\xba\\xbf\\xe5\\x85\\x83)\\nsd:\\xe5\\x82\\xa8\\xe8\\x93\\x84\\xe5\\xad\\x98\\xe6\\xac\\xbe(\\xe4\\xba\\xbf\\xe5\\x85\\x83)\\nrests:\\xe5\\x85\\xb6\\xe4\\xbb\\x96\\xe5\\xad\\x98\\xe6\\xac\\xbe(\\xe4\\xba\\xbf\\xe5\\x85\\x83)\\n'"
      ]
     },
     "execution_count": 3,
     "metadata": {},
     "output_type": "execute_result"
    }
   ],
   "source": [
    "import tushare as ts\n",
    "money_supply=ts.get_money_supply_bal()\n",
    "money_supply.to_excel(\"c:\\\\pythoncoding\\\\data\\\\money_supply.xlsx\")\n",
    "'''\n",
    "cd:活期存款(亿元)\n",
    "qm:准货币(亿元)\n",
    "ftd:定期存款(亿元)\n",
    "sd:储蓄存款(亿元)\n",
    "rests:其他存款(亿元)\n",
    "'''"
   ]
  },
  {
   "cell_type": "code",
   "execution_count": 2,
   "metadata": {
    "collapsed": false
   },
   "outputs": [
    {
     "ename": "NameError",
     "evalue": "name 'money_supply' is not defined",
     "output_type": "error",
     "traceback": [
      "\u001b[1;31m---------------------------------------------------------------------------\u001b[0m",
      "\u001b[1;31mNameError\u001b[0m                                 Traceback (most recent call last)",
      "\u001b[1;32m<ipython-input-2-234793954423>\u001b[0m in \u001b[0;36m<module>\u001b[1;34m()\u001b[0m\n\u001b[1;32m----> 1\u001b[1;33m \u001b[0mmoney_supply\u001b[0m\u001b[1;33m.\u001b[0m\u001b[0mto_excel\u001b[0m\u001b[1;33m(\u001b[0m\u001b[1;34m\"c:\\\\pythoncoding\\\\data\\\\money_supply.xlsx\"\u001b[0m\u001b[1;33m)\u001b[0m\u001b[1;33m\u001b[0m\u001b[0m\n\u001b[0m",
      "\u001b[1;31mNameError\u001b[0m: name 'money_supply' is not defined"
     ]
    }
   ],
   "source": [
    "money_supply.to_excel(\"c:\\\\pythoncoding\\\\data\\\\money_supply.xlsx\")"
   ]
  },
  {
   "cell_type": "code",
   "execution_count": null,
   "metadata": {
    "collapsed": true
   },
   "outputs": [],
   "source": []
  }
 ],
 "metadata": {
  "kernelspec": {
   "display_name": "Python 2",
   "language": "python",
   "name": "python2"
  },
  "language_info": {
   "codemirror_mode": {
    "name": "ipython",
    "version": 2
   },
   "file_extension": ".py",
   "mimetype": "text/x-python",
   "name": "python",
   "nbconvert_exporter": "python",
   "pygments_lexer": "ipython2",
   "version": "2.7.9"
  }
 },
 "nbformat": 4,
 "nbformat_minor": 0
}
