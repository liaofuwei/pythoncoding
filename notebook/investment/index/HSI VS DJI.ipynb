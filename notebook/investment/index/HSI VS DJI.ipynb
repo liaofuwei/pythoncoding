{
 "cells": [
  {
   "cell_type": "code",
   "execution_count": 26,
   "metadata": {
    "collapsed": false
   },
   "outputs": [
    {
     "data": {
      "text/plain": [
       "(0.81252019405743114, 0.82613844056260699)"
      ]
     },
     "execution_count": 26,
     "metadata": {},
     "output_type": "execute_result"
    }
   ],
   "source": [
    "import pandas as pd\n",
    "import datetime\n",
    "import matplotlib.pyplot as plt\n",
    "%matplotlib inline\n",
    "\n",
    "import sys\n",
    "default_encoding = 'utf-8'\n",
    "if sys.getdefaultencoding() != default_encoding:\n",
    "    reload(sys)\n",
    "    sys.setdefaultencoding(default_encoding)\n",
    "\n",
    "#load HSI data\n",
    "HSI=pd.read_csv('c:\\\\pythonCoding\\\\data\\\\index\\\\HSI.csv')\n",
    "HSI=HSI.iloc[:,0:2] #只选取date，open\n",
    "HSI.columns=['date','open']\n",
    "HSI.set_index('date')\n",
    "HSI.head()\n",
    "\n",
    "#load DJI data\n",
    "DJI=pd.read_csv('c:\\\\pythonCoding\\\\data\\\\index\\\\DJI.csv')\n",
    "DJI=DJI.iloc[:,0:2] #只选取date，open\n",
    "DJI.columns=['date','open']\n",
    "DJI.set_index('date')\n",
    "DJI.head()\n",
    "\n",
    "#load SHI data\n",
    "SHI=pd.read_csv('c:\\\\pythonCoding\\\\data\\\\index\\\\SHI.csv')\n",
    "SHI=SHI.iloc[:,0:2] #只选取date，open\n",
    "SHI.columns=['date','open']\n",
    "SHI.set_index('date')\n",
    "SHI.head()\n",
    "\n",
    "#merge into single df\n",
    "mergeHSI_DJI=pd.merge(HSI,DJI,on='date') #\n",
    "mergeHSI_DJI.columns=['date','HSI','DJI']\n",
    "#mergedata.head()\n",
    "\n",
    "mergeHSI_SHI=pd.merge(HSI,SHI,on='date')\n",
    "mergeHSI_SHI.columns=['date','HSI','SHI']\n",
    "\n",
    "mergeHSI_DJI.set_index('date')\n",
    "#mergeHSI_DJI.plot()\n",
    "mergeHSI_SHI.set_index('date')\n",
    "\n",
    "corr_HSI_DJI=mergeHSI_DJI.HSI.corr(mergeHSI_DJI.DJI)\n",
    "corr_HSI_SHI=mergeHSI_SHI.HSI.corr(mergeHSI_SHI.SHI)\n",
    "corr_HSI_DJI,corr_HSI_SHI"
   ]
  },
  {
   "cell_type": "code",
   "execution_count": 16,
   "metadata": {
    "collapsed": false
   },
   "outputs": [
    {
     "data": {
      "text/html": [
       "<div style=\"max-height:1000px;max-width:1500px;overflow:auto;\">\n",
       "<table border=\"1\" class=\"dataframe\">\n",
       "  <thead>\n",
       "    <tr style=\"text-align: right;\">\n",
       "      <th></th>\n",
       "      <th>date</th>\n",
       "      <th>open</th>\n",
       "    </tr>\n",
       "  </thead>\n",
       "  <tbody>\n",
       "    <tr>\n",
       "      <th>0</th>\n",
       "      <td>  1985/02/28</td>\n",
       "      <td> 1281.14</td>\n",
       "    </tr>\n",
       "    <tr>\n",
       "      <th>1</th>\n",
       "      <td>  1985/03/01</td>\n",
       "      <td> 1284.01</td>\n",
       "    </tr>\n",
       "    <tr>\n",
       "      <th>2</th>\n",
       "      <td>  1985/03/04</td>\n",
       "      <td> 1299.25</td>\n",
       "    </tr>\n",
       "    <tr>\n",
       "      <th>3</th>\n",
       "      <td>  1985/03/05</td>\n",
       "      <td> 1289.53</td>\n",
       "    </tr>\n",
       "    <tr>\n",
       "      <th>4</th>\n",
       "      <td>  1985/03/06</td>\n",
       "      <td> 1291.85</td>\n",
       "    </tr>\n",
       "  </tbody>\n",
       "</table>\n",
       "</div>"
      ]
     },
     "metadata": {},
     "output_type": "execute_result"
    }
   ],
   "source": [
    "#load DJI data\n",
    "DJI=pd.read_csv('c:\\\\pythonCoding\\\\data\\\\index\\\\DJI.csv')\n",
    "DJI=DJI.iloc[:,0:2] #只选取date，open\n",
    "DJI.columns=['date','open']\n",
    "DJI.set_index('date')\n",
    "DJI.head()\n",
    "# type(DJI['date'])"
   ]
  },
  {
   "cell_type": "code",
   "execution_count": 17,
   "metadata": {
    "collapsed": false
   },
   "outputs": [
    {
     "ename": "NameError",
     "evalue": "name 'TS10year' is not defined",
     "output_type": "error",
     "traceback": [
      "\u001b[1;31m---------------------------------------------------------------------------\u001b[0m",
      "\u001b[1;31mNameError\u001b[0m                                 Traceback (most recent call last)",
      "\u001b[1;32m<ipython-input-17-9646b1e2f9d6>\u001b[0m in \u001b[0;36m<module>\u001b[1;34m()\u001b[0m\n\u001b[0;32m      6\u001b[0m \u001b[1;31m#plt.show()\u001b[0m\u001b[1;33m\u001b[0m\u001b[1;33m\u001b[0m\u001b[0m\n\u001b[0;32m      7\u001b[0m \u001b[1;33m\u001b[0m\u001b[0m\n\u001b[1;32m----> 8\u001b[1;33m \u001b[0mmergedata\u001b[0m\u001b[1;33m=\u001b[0m\u001b[0mpd\u001b[0m\u001b[1;33m.\u001b[0m\u001b[0mmerge\u001b[0m\u001b[1;33m(\u001b[0m\u001b[0mTS10year\u001b[0m\u001b[1;33m,\u001b[0m\u001b[0mTS5year\u001b[0m\u001b[1;33m,\u001b[0m\u001b[0mon\u001b[0m\u001b[1;33m=\u001b[0m\u001b[1;34m'date'\u001b[0m\u001b[1;33m)\u001b[0m\u001b[1;31m#merge默认为将key相同的数据进行聚合，on指定按相同列的列名作为key\u001b[0m\u001b[1;33m\u001b[0m\u001b[0m\n\u001b[0m\u001b[0;32m      9\u001b[0m \u001b[0mmergedata\u001b[0m\u001b[1;33m.\u001b[0m\u001b[0mcolumns\u001b[0m\u001b[1;33m=\u001b[0m\u001b[1;33m[\u001b[0m\u001b[1;34m'date'\u001b[0m\u001b[1;33m,\u001b[0m\u001b[1;34m'10year'\u001b[0m\u001b[1;33m,\u001b[0m\u001b[1;34m'5year'\u001b[0m\u001b[1;33m]\u001b[0m\u001b[1;33m\u001b[0m\u001b[0m\n\u001b[0;32m     10\u001b[0m \u001b[0mmergedata\u001b[0m\u001b[1;33m.\u001b[0m\u001b[0mset_index\u001b[0m\u001b[1;33m(\u001b[0m\u001b[1;34m'date'\u001b[0m\u001b[1;33m)\u001b[0m\u001b[1;33m\u001b[0m\u001b[0m\n",
      "\u001b[1;31mNameError\u001b[0m: name 'TS10year' is not defined"
     ]
    }
   ],
   "source": [
    "#load treasury 5years data\n",
    "TS5year=pd.read_excel('c:\\\\pythonCoding\\\\data\\\\treasury data\\\\5.xls',header=None,encoding='utf-8')\n",
    "TS5year.columns=['date','yeild']\n",
    "TS5year.set_index('date')\n",
    "#TS10year.plot()\n",
    "#plt.show()\n",
    "\n",
    "mergedata=pd.merge(TS10year,TS5year,on='date')#merge默认为将key相同的数据进行聚合，on指定按相同列的列名作为key\n",
    "mergedata.columns=['date','10year','5year']\n",
    "mergedata.set_index('date')\n",
    "mergedata.plot()"
   ]
  },
  {
   "cell_type": "code",
   "execution_count": null,
   "metadata": {
    "collapsed": true
   },
   "outputs": [],
   "source": []
  }
 ],
 "metadata": {
  "anaconda-cloud": {},
  "kernelspec": {
   "display_name": "Python [default]",
   "language": "python",
   "name": "python2"
  },
  "language_info": {
   "codemirror_mode": {
    "name": "ipython",
    "version": 2
   },
   "file_extension": ".py",
   "mimetype": "text/x-python",
   "name": "python",
   "nbconvert_exporter": "python",
   "pygments_lexer": "ipython2",
   "version": "2.7.12"
  }
 },
 "nbformat": 4,
 "nbformat_minor": 0
}
