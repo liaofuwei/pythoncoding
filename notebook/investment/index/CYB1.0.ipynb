{
 "cells": [
  {
   "cell_type": "code",
   "execution_count": null,
   "metadata": {
    "collapsed": true
   },
   "outputs": [],
   "source": [
    "import sys\n",
    "default_encoding = 'utf-8'\n",
    "if sys.getdefaultencoding() != default_encoding:\n",
    "    reload(sys)\n",
    "    sys.setdefaultencoding(default_encoding)\n"
   ]
  },
  {
   "cell_type": "code",
   "execution_count": 1,
   "metadata": {
    "collapsed": false
   },
   "outputs": [],
   "source": [
    "import tushare as ts\n",
    "import pandas as pd\n",
    "import numpy as np\n",
    "import matplotlib.pyplot as plt\n",
    "from dateutil.parser import parse\n",
    "from datetime import datetime\n",
    "from pandas.tseries.offsets import Hour,Day"
   ]
  },
  {
   "cell_type": "code",
   "execution_count": 3,
   "metadata": {
    "collapsed": false
   },
   "outputs": [],
   "source": [
    "col_name=['date','open','high','low','close','vol','ma5','ma10','ma20','ma60']\n",
    "cyb_hist_index=pd.read_csv('c:\\\\pythonCoding\\\\data\\\\index\\\\399006.csv',header=None,skiprows=1,names=col_name,index_col='date')\n",
    "#处理index的空格，使用dateutil库处理\n",
    "\n",
    "cyb_hist_index.index=pd.to_datetime(cyb_hist_index.index)#将字符串格式的日期转换为时间序列常见的日期格式\n",
    "#去掉空格数据\n",
    "cyb_hist_index=cyb_hist_index.replace(cyb_hist_index.ix[cyb_hist_index.index.min(),'ma5'],np.nan)\n",
    "cyb_hist_index=cyb_hist_index.dropna()\n",
    "\n",
    "cyb_hist_index=cyb_hist_index.applymap(lambda x: float(x))\n",
    "cyb_hist_index['ma5-ma20']=(cyb_hist_index['ma5']-cyb_hist_index['ma20'])/cyb_hist_index['ma20']*100\n",
    "\n",
    "cyb_MA5_MA20=cyb_hist_index.ix[\"2010-08-26\":\"2016-03-21\",'ma5-ma20']\n",
    "\n",
    "#从tushare获取创业板指数的更新数据\n",
    "startDay=cyb_hist_index.index.max()+Day()  #历史数据的最后一天+1，为tushare获取数据的开始日期\n",
    "startDay=str(startDay)\n",
    "Get_Cyb_Index=ts.get_hist_data('399006',start=startDay)#获取创业板指数历史信息，数据从2016-3-22开始，csv表历史数据结束于2016-3-21\n",
    "ts_cyb_index=Get_Cyb_Index.ix[:,['open','high','low','close','volume','ma5','ma10','ma20']]\n",
    "ts_cyb_index=ts_cyb_index.sort_index()\n",
    "ts_cyb_index.index=pd.to_datetime(ts_cyb_index.index)\n",
    "ts_cyb_index['ma5-ma20']=(ts_cyb_index['ma5']-ts_cyb_index['ma20'])/ts_cyb_index['ma20']*100\n",
    "ts_cyb_index.columns=['open','high','low','close','vol','ma5','ma10','ma20','ma5-ma20']\n",
    "\n",
    "cybIndex=pd.concat([cyb_hist_index,ts_cyb_index])\n",
    "\n",
    "now=datetime.now()\n",
    "date=str(now.year)+str(now.month)+str(now.day)\n",
    "csvfilepath=\"c:\\\\pythoncoding\\\\data\\\\index\\\\cyb_index_\"+date+\".csv\"\n",
    "cybIndex.to_csv(csvfilepath)\n",
    "\n",
    "#集合历史数据与实时数据的创业板指数MA5-MA20关系数据，此数据为下面分析的基础\n",
    "cybIndex_MA5_MA20=cybIndex.ix[cyb_hist_index.index.min():ts_cyb_index.index.max(),'ma5-ma20']\n",
    "\n",
    "\n",
    "#cybIndex_MA5_MA20.plot()  #绘制ma5-ma20 曲线\n",
    "#plt.show()\n",
    "#----------------------------------------只画创业板指数M20-M5图，到这里就可以--------------------------------\n",
    "\n",
    "#处理创业板ETF --159915\n",
    "cyb_ETF=pd.read_csv('c:\\\\pythonCoding\\\\data\\\\index\\\\159915.csv',header=None,skiprows=1,names=['date','open','high','low','close','vol','ma5','ma10','ma20','ma60'],index_col='date')\n",
    "cyb_ETF.index=pd.to_datetime(cyb_ETF.index)\n",
    "startDay=cyb_ETF.index.max()  #历史数据的最后一天，为tushare获取数据的开始日期\n",
    "startDay=str(startDay)\n",
    "get_cyb_ETF=ts.get_hist_data(\"159915\",start=startDay)\n",
    "ts_cyb_ETF=get_cyb_ETF.ix[:,['open','high','low','close','volume','ma5','ma10','ma20']]\n",
    "ts_cyb_ETF=ts_cyb_ETF.sort_index()\n",
    "ts_cyb_ETF.index=pd.to_datetime(ts_cyb_ETF.index)\n",
    "ts_cyb_ETF['ma5-ma20']=(ts_cyb_ETF['ma5']-ts_cyb_ETF['ma20'])/ts_cyb_ETF['ma20']*100\n",
    "cybETF=pd.concat([cyb_ETF,ts_cyb_ETF])\n",
    "\n",
    "now=datetime.now()\n",
    "date=str(now.year)+str(now.month)+str(now.day)\n",
    "csvfilepath=\"c:\\\\pythoncoding\\\\data\\\\index\\\\cyb_ETF_\"+date+\".csv\"\n",
    "cybETF.to_csv(csvfilepath)\n",
    "\n",
    "\n",
    "#假设初始资金量为total_initial_capital\n",
    "total_initial_capital=10000\n",
    "\n"
   ]
  },
  {
   "cell_type": "code",
   "execution_count": 5,
   "metadata": {
    "collapsed": false
   },
   "outputs": [
    {
     "data": {
      "text/html": [
       "<div>\n",
       "<table border=\"1\" class=\"dataframe\">\n",
       "  <thead>\n",
       "    <tr style=\"text-align: right;\">\n",
       "      <th></th>\n",
       "      <th>open</th>\n",
       "      <th>high</th>\n",
       "      <th>low</th>\n",
       "      <th>close</th>\n",
       "      <th>vol</th>\n",
       "      <th>ma5</th>\n",
       "      <th>ma10</th>\n",
       "      <th>ma20</th>\n",
       "      <th>ma60</th>\n",
       "    </tr>\n",
       "  </thead>\n",
       "  <tbody>\n",
       "    <tr>\n",
       "      <th>2016-03-17</th>\n",
       "      <td>1.880</td>\n",
       "      <td>1.991</td>\n",
       "      <td>1.879</td>\n",
       "      <td>1.991</td>\n",
       "      <td>1120405888</td>\n",
       "      <td>1.904</td>\n",
       "      <td>1.875</td>\n",
       "      <td>1.921</td>\n",
       "      <td>2.107</td>\n",
       "    </tr>\n",
       "    <tr>\n",
       "      <th>2016-03-18</th>\n",
       "      <td>2.015</td>\n",
       "      <td>2.095</td>\n",
       "      <td>1.992</td>\n",
       "      <td>2.076</td>\n",
       "      <td>1022792064</td>\n",
       "      <td>1.952</td>\n",
       "      <td>1.902</td>\n",
       "      <td>1.92</td>\n",
       "      <td>2.097</td>\n",
       "    </tr>\n",
       "    <tr>\n",
       "      <th>2016-03-21</th>\n",
       "      <td>2.100</td>\n",
       "      <td>2.120</td>\n",
       "      <td>2.080</td>\n",
       "      <td>2.116</td>\n",
       "      <td>643854336</td>\n",
       "      <td>1.99</td>\n",
       "      <td>1.928</td>\n",
       "      <td>1.918</td>\n",
       "      <td>2.088</td>\n",
       "    </tr>\n",
       "    <tr>\n",
       "      <th>2016-03-22</th>\n",
       "      <td>2.090</td>\n",
       "      <td>2.135</td>\n",
       "      <td>2.082</td>\n",
       "      <td>2.099</td>\n",
       "      <td>673078336</td>\n",
       "      <td>2.032</td>\n",
       "      <td>1.949</td>\n",
       "      <td>1.917</td>\n",
       "      <td>2.078</td>\n",
       "    </tr>\n",
       "    <tr>\n",
       "      <th>2016-03-23</th>\n",
       "      <td>2.100</td>\n",
       "      <td>2.152</td>\n",
       "      <td>2.091</td>\n",
       "      <td>2.148</td>\n",
       "      <td>724549545</td>\n",
       "      <td>2.086</td>\n",
       "      <td>1.979</td>\n",
       "      <td>1.92</td>\n",
       "      <td>2.07</td>\n",
       "    </tr>\n",
       "  </tbody>\n",
       "</table>\n",
       "</div>"
      ],
      "text/plain": [
       "             open   high    low  close         vol    ma5   ma10   ma20   ma60\n",
       "2016-03-17  1.880  1.991  1.879  1.991  1120405888  1.904  1.875  1.921  2.107\n",
       "2016-03-18  2.015  2.095  1.992  2.076  1022792064  1.952  1.902   1.92  2.097\n",
       "2016-03-21  2.100  2.120  2.080  2.116   643854336   1.99  1.928  1.918  2.088\n",
       "2016-03-22  2.090  2.135  2.082  2.099   673078336  2.032  1.949  1.917  2.078\n",
       "2016-03-23  2.100  2.152  2.091  2.148   724549545  2.086  1.979   1.92   2.07"
      ]
     },
     "execution_count": 5,
     "metadata": {},
     "output_type": "execute_result"
    }
   ],
   "source": [
    "buy_date=cyb_MA5_MA20[cyb_MA5_MA20<=-5].index\n",
    "sell_date=cyb_MA5_MA20[cyb_MA5_MA20>=5].index\n",
    "buy_point=[]\n",
    "sell_point=[]\n",
    "for i,j in buy_date,sell_date:\n",
    "    buy_point.append(buy_date[i])\n",
    "    sell_point.append(sell_date[j])\n",
    "    buy_date=buy_date[sell_date[j]:]\n",
    "\n",
    "    \n",
    "for i in sell_date:\n",
    "    for j in buy_date:\n",
    "        buy_point.append(buy_date[j])\n",
    "        \n",
    "    \n",
    "    \n",
    "    \n"
   ]
  },
  {
   "cell_type": "code",
   "execution_count": null,
   "metadata": {
    "collapsed": false
   },
   "outputs": [],
   "source": []
  },
  {
   "cell_type": "code",
   "execution_count": null,
   "metadata": {
    "collapsed": false
   },
   "outputs": [],
   "source": [
    "\n",
    "    "
   ]
  },
  {
   "cell_type": "code",
   "execution_count": null,
   "metadata": {
    "collapsed": false
   },
   "outputs": [],
   "source": [
    "'''\n",
    "sh50index=pd.read_csv('c:\\\\pythonCoding\\\\data\\\\index\\\\000016.csv',header=None,skiprows=1,names=['date','open','high','low','close','vol','ma5','ma10','ma20','ma60'],index_col='date')\n",
    "from dateutil.parser import parse\n",
    "sh50index.index=pd.to_datetime(sh50index.index)#将字符串格式的日期转换为时间序列常见的日期格式\n",
    "sh50index=sh50index.applymap(lambda x: float(x))\n",
    "sh50index['ma5-ma20']=(sh50index['ma5']-sh50index['ma20'])/sh50index['ma20']*100\n",
    "sh50index=sh50index.ix[\"2004-04-06\":\"2016-03-22\",'ma5-ma20']\n",
    "sh50index.plot()\n",
    "plt.show()\n",
    "'''"
   ]
  },
  {
   "cell_type": "code",
   "execution_count": null,
   "metadata": {
    "collapsed": true
   },
   "outputs": [],
   "source": [
    "for i in cybETF.index:\n",
    "    if(cybIndex[i,\"ma5-ma20\"]<=-5):\n",
    "        amount=int(total_initial_capital/cyb_ETF[i,\"close\"]/100)*100\n",
    "        \n",
    "        \n",
    "\n",
    "\n",
    "\n",
    "\n",
    "\n",
    "\n",
    "\n",
    "\n",
    "\n",
    "\n",
    "\n",
    "\n",
    "\n",
    "\n",
    "\n",
    "\n",
    "\n",
    "#把指数的时间段与对应ETF的时间段统一化\n",
    "ETF2CYBindex_period=cybIndex_MA5_MA20[cyb_ETF.index.min():cyb_ETF.index.max()]\n",
    "\n",
    "#买点-卖点策略判断\n",
    "buy_point_value=-5 #买点值，该值可以调整优化\n",
    "sell_point_value=5 #卖点值，同样可以调整优化\n",
    "buy_point=ETF2CYBindex_period[cybIndex_MA5_MA20<=buy_point_value].index #5日均线-20日均线小于-5的所有日期\n",
    "sell_point=cybIndex_MA5_MA20[cybIndex_MA5_MA20>=sell_point_value].index #5日均线-20日均线大于+5的所有日期\n",
    "\n",
    "\n",
    "\n",
    "\n",
    "    \n",
    "\n",
    "\n",
    "\n"
   ]
  },
  {
   "cell_type": "code",
   "execution_count": null,
   "metadata": {
    "collapsed": true
   },
   "outputs": [],
   "source": []
  },
  {
   "cell_type": "code",
   "execution_count": null,
   "metadata": {
    "collapsed": false
   },
   "outputs": [],
   "source": []
  },
  {
   "cell_type": "code",
   "execution_count": null,
   "metadata": {
    "collapsed": true
   },
   "outputs": [],
   "source": []
  }
 ],
 "metadata": {
  "anaconda-cloud": {},
  "kernelspec": {
   "display_name": "Python [default]",
   "language": "python",
   "name": "python2"
  },
  "language_info": {
   "codemirror_mode": {
    "name": "ipython",
    "version": 2
   },
   "file_extension": ".py",
   "mimetype": "text/x-python",
   "name": "python",
   "nbconvert_exporter": "python",
   "pygments_lexer": "ipython2",
   "version": "2.7.12"
  }
 },
 "nbformat": 4,
 "nbformat_minor": 0
}
