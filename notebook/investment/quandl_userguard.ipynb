{
 "cells": [
  {
   "cell_type": "code",
   "execution_count": 9,
   "metadata": {
    "collapsed": false
   },
   "outputs": [],
   "source": [
    "import quandl\n",
    "#quandl.ApiConfig.api_key = \"zatTe4QZ6xd4L__zxwJV\"\n",
    "#goldFutureOptionData=quandl.get(\"CFTC/GC_FO_ALL\",authtoken=\"zatTe4QZ6xd4L__zxwJV\")"
   ]
  },
  {
   "cell_type": "code",
   "execution_count": 6,
   "metadata": {
    "collapsed": true
   },
   "outputs": [],
   "source": [
    "import pandas as pd\n",
    "import datetime\n",
    "import matplotlib.pyplot as plt\n",
    "import numpy as np\n",
    "%matplotlib qt5"
   ]
  },
  {
   "cell_type": "code",
   "execution_count": 5,
   "metadata": {
    "collapsed": false
   },
   "outputs": [
    {
     "name": "stdout",
     "output_type": "stream",
     "text": [
      "count       586.000000\n",
      "mean    -182963.518771\n",
      "std       82828.610087\n",
      "min     -372009.000000\n",
      "25%     -250455.250000\n",
      "50%     -179901.000000\n",
      "75%     -120036.250000\n",
      "max       -7050.000000\n",
      "Name: net commercial, dtype: float64\n",
      "count       586.000000\n",
      "mean     155950.981229\n",
      "std       70487.963934\n",
      "min       13040.000000\n",
      "25%       99134.750000\n",
      "50%      149373.000000\n",
      "75%      210581.250000\n",
      "max      347746.000000\n",
      "Name: net speculator, dtype: float64\n"
     ]
    }
   ],
   "source": [
    "goldFutureOptionData['net commercial']=goldFutureOptionData['Producer/Merchant/Processor/User Longs']+goldFutureOptionData['Swap Dealer Longs']\\\n",
    "                                    - goldFutureOptionData['Producer/Merchant/Processor/User Shorts']-goldFutureOptionData['Swap Dealer Shorts']\n",
    "goldFutureOptionData['net speculator']=goldFutureOptionData['Money Manager Longs']+goldFutureOptionData['Other Reportable Longs']\\\n",
    "                                       -goldFutureOptionData['Money Manager Shorts']-goldFutureOptionData['Other Reportable Shorts']\n",
    "print goldFutureOptionData['net commercial'].describe()\n",
    "print goldFutureOptionData['net speculator'].describe()\n",
    "#goldFutureOptionData.ix[:,['net commercial','net speculator']].plot()\n",
    "#plt.show()\n",
    "dt=str(datetime.datetime.now().date())\n",
    "goldFutureOptionData.to_csv(\"c:\\\\pythoncoding\\\\data\\\\gold\\\\goldFutureOptionData_\"+dt+\".csv\")"
   ]
  },
  {
   "cell_type": "code",
   "execution_count": 12,
   "metadata": {
    "collapsed": false
   },
   "outputs": [
    {
     "name": "stdout",
     "output_type": "stream",
     "text": [
      "Date\n",
      "2017-07-25   -132860.0\n",
      "2017-08-01   -144093.0\n",
      "2017-08-08   -144155.0\n",
      "2017-08-15   -158231.0\n",
      "2017-08-22   -175401.0\n",
      "Name: net commercial, dtype: float64\n",
      "max:Timestamp('2013-12-03 00:00:00') min:Timestamp('2010-05-18 00:00:00')\n"
     ]
    }
   ],
   "source": [
    "print goldFutureOptionData['net commercial'].tail(5)\n",
    "print \"max:%r min:%r\"%(goldFutureOptionData['net commercial'].idxmax(),goldFutureOptionData['net commercial'].idxmin())"
   ]
  },
  {
   "cell_type": "code",
   "execution_count": 24,
   "metadata": {
    "collapsed": true
   },
   "outputs": [
    {
     "data": {
      "text/html": [
       "<div>\n",
       "<table border=\"1\" class=\"dataframe\">\n",
       "  <thead>\n",
       "    <tr style=\"text-align: right;\">\n",
       "      <th></th>\n",
       "      <th>Open Interest</th>\n",
       "      <th>Producer/Merchant/Processor/User Longs</th>\n",
       "      <th>Producer/Merchant/Processor/User Shorts</th>\n",
       "      <th>Swap Dealer Longs</th>\n",
       "      <th>Swap Dealer Shorts</th>\n",
       "      <th>Swap Dealer Spreads</th>\n",
       "      <th>Money Manager Longs</th>\n",
       "      <th>Money Manager Shorts</th>\n",
       "      <th>Money Manager Spreads</th>\n",
       "      <th>Other Reportable Longs</th>\n",
       "      <th>Other Reportable Shorts</th>\n",
       "      <th>Other Reportable Spreads</th>\n",
       "      <th>Total Reportable Longs</th>\n",
       "      <th>Total Reportable Shorts</th>\n",
       "      <th>Non Reportable Longs</th>\n",
       "      <th>Non Reportable Shorts</th>\n",
       "      <th>net commercial</th>\n",
       "      <th>net speculator</th>\n",
       "    </tr>\n",
       "    <tr>\n",
       "      <th>Date</th>\n",
       "      <th></th>\n",
       "      <th></th>\n",
       "      <th></th>\n",
       "      <th></th>\n",
       "      <th></th>\n",
       "      <th></th>\n",
       "      <th></th>\n",
       "      <th></th>\n",
       "      <th></th>\n",
       "      <th></th>\n",
       "      <th></th>\n",
       "      <th></th>\n",
       "      <th></th>\n",
       "      <th></th>\n",
       "      <th></th>\n",
       "      <th></th>\n",
       "      <th></th>\n",
       "      <th></th>\n",
       "    </tr>\n",
       "  </thead>\n",
       "  <tbody>\n",
       "    <tr>\n",
       "      <th>2006-06-13</th>\n",
       "      <td>382474.0</td>\n",
       "      <td>42587.0</td>\n",
       "      <td>128892.0</td>\n",
       "      <td>19370.0</td>\n",
       "      <td>66611.0</td>\n",
       "      <td>22998.0</td>\n",
       "      <td>103211.0</td>\n",
       "      <td>30916.0</td>\n",
       "      <td>46704.0</td>\n",
       "      <td>33230.0</td>\n",
       "      <td>10656.0</td>\n",
       "      <td>58412.0</td>\n",
       "      <td>326513.0</td>\n",
       "      <td>365190.0</td>\n",
       "      <td>55961.0</td>\n",
       "      <td>17284.0</td>\n",
       "      <td>-133546.0</td>\n",
       "      <td>94869.0</td>\n",
       "    </tr>\n",
       "    <tr>\n",
       "      <th>2006-06-20</th>\n",
       "      <td>390281.0</td>\n",
       "      <td>47440.0</td>\n",
       "      <td>126992.0</td>\n",
       "      <td>22404.0</td>\n",
       "      <td>64682.0</td>\n",
       "      <td>25806.0</td>\n",
       "      <td>94632.0</td>\n",
       "      <td>30963.0</td>\n",
       "      <td>48730.0</td>\n",
       "      <td>32947.0</td>\n",
       "      <td>11142.0</td>\n",
       "      <td>64458.0</td>\n",
       "      <td>336417.0</td>\n",
       "      <td>372774.0</td>\n",
       "      <td>53864.0</td>\n",
       "      <td>17507.0</td>\n",
       "      <td>-121830.0</td>\n",
       "      <td>85474.0</td>\n",
       "    </tr>\n",
       "    <tr>\n",
       "      <th>2006-06-27</th>\n",
       "      <td>384321.0</td>\n",
       "      <td>48449.0</td>\n",
       "      <td>121890.0</td>\n",
       "      <td>22425.0</td>\n",
       "      <td>62640.0</td>\n",
       "      <td>25151.0</td>\n",
       "      <td>91042.0</td>\n",
       "      <td>32287.0</td>\n",
       "      <td>49614.0</td>\n",
       "      <td>31307.0</td>\n",
       "      <td>11386.0</td>\n",
       "      <td>59762.0</td>\n",
       "      <td>327749.0</td>\n",
       "      <td>362729.0</td>\n",
       "      <td>56572.0</td>\n",
       "      <td>21592.0</td>\n",
       "      <td>-113656.0</td>\n",
       "      <td>78676.0</td>\n",
       "    </tr>\n",
       "    <tr>\n",
       "      <th>2006-07-03</th>\n",
       "      <td>392868.0</td>\n",
       "      <td>48087.0</td>\n",
       "      <td>122568.0</td>\n",
       "      <td>22720.0</td>\n",
       "      <td>69714.0</td>\n",
       "      <td>26352.0</td>\n",
       "      <td>92545.0</td>\n",
       "      <td>30452.0</td>\n",
       "      <td>50821.0</td>\n",
       "      <td>32874.0</td>\n",
       "      <td>8677.0</td>\n",
       "      <td>63514.0</td>\n",
       "      <td>336914.0</td>\n",
       "      <td>372098.0</td>\n",
       "      <td>55955.0</td>\n",
       "      <td>20771.0</td>\n",
       "      <td>-121475.0</td>\n",
       "      <td>86290.0</td>\n",
       "    </tr>\n",
       "    <tr>\n",
       "      <th>2006-07-11</th>\n",
       "      <td>427008.0</td>\n",
       "      <td>54509.0</td>\n",
       "      <td>130618.0</td>\n",
       "      <td>21840.0</td>\n",
       "      <td>79217.0</td>\n",
       "      <td>28805.0</td>\n",
       "      <td>104213.0</td>\n",
       "      <td>27624.0</td>\n",
       "      <td>54922.0</td>\n",
       "      <td>33165.0</td>\n",
       "      <td>11194.0</td>\n",
       "      <td>70944.0</td>\n",
       "      <td>368398.0</td>\n",
       "      <td>403323.0</td>\n",
       "      <td>58611.0</td>\n",
       "      <td>23685.0</td>\n",
       "      <td>-133486.0</td>\n",
       "      <td>98560.0</td>\n",
       "    </tr>\n",
       "  </tbody>\n",
       "</table>\n",
       "</div>"
      ],
      "text/plain": [
       "            Open Interest  Producer/Merchant/Processor/User Longs  \\\n",
       "Date                                                                \n",
       "2006-06-13       382474.0                                 42587.0   \n",
       "2006-06-20       390281.0                                 47440.0   \n",
       "2006-06-27       384321.0                                 48449.0   \n",
       "2006-07-03       392868.0                                 48087.0   \n",
       "2006-07-11       427008.0                                 54509.0   \n",
       "\n",
       "            Producer/Merchant/Processor/User Shorts  Swap Dealer Longs  \\\n",
       "Date                                                                     \n",
       "2006-06-13                                 128892.0            19370.0   \n",
       "2006-06-20                                 126992.0            22404.0   \n",
       "2006-06-27                                 121890.0            22425.0   \n",
       "2006-07-03                                 122568.0            22720.0   \n",
       "2006-07-11                                 130618.0            21840.0   \n",
       "\n",
       "            Swap Dealer Shorts  Swap Dealer Spreads  Money Manager Longs  \\\n",
       "Date                                                                       \n",
       "2006-06-13             66611.0              22998.0             103211.0   \n",
       "2006-06-20             64682.0              25806.0              94632.0   \n",
       "2006-06-27             62640.0              25151.0              91042.0   \n",
       "2006-07-03             69714.0              26352.0              92545.0   \n",
       "2006-07-11             79217.0              28805.0             104213.0   \n",
       "\n",
       "            Money Manager Shorts  Money Manager Spreads  \\\n",
       "Date                                                      \n",
       "2006-06-13               30916.0                46704.0   \n",
       "2006-06-20               30963.0                48730.0   \n",
       "2006-06-27               32287.0                49614.0   \n",
       "2006-07-03               30452.0                50821.0   \n",
       "2006-07-11               27624.0                54922.0   \n",
       "\n",
       "            Other Reportable Longs  Other Reportable Shorts  \\\n",
       "Date                                                          \n",
       "2006-06-13                 33230.0                  10656.0   \n",
       "2006-06-20                 32947.0                  11142.0   \n",
       "2006-06-27                 31307.0                  11386.0   \n",
       "2006-07-03                 32874.0                   8677.0   \n",
       "2006-07-11                 33165.0                  11194.0   \n",
       "\n",
       "            Other Reportable Spreads  Total Reportable Longs  \\\n",
       "Date                                                           \n",
       "2006-06-13                   58412.0                326513.0   \n",
       "2006-06-20                   64458.0                336417.0   \n",
       "2006-06-27                   59762.0                327749.0   \n",
       "2006-07-03                   63514.0                336914.0   \n",
       "2006-07-11                   70944.0                368398.0   \n",
       "\n",
       "            Total Reportable Shorts  Non Reportable Longs  \\\n",
       "Date                                                        \n",
       "2006-06-13                 365190.0               55961.0   \n",
       "2006-06-20                 372774.0               53864.0   \n",
       "2006-06-27                 362729.0               56572.0   \n",
       "2006-07-03                 372098.0               55955.0   \n",
       "2006-07-11                 403323.0               58611.0   \n",
       "\n",
       "            Non Reportable Shorts  net commercial  net speculator  \n",
       "Date                                                               \n",
       "2006-06-13                17284.0       -133546.0         94869.0  \n",
       "2006-06-20                17507.0       -121830.0         85474.0  \n",
       "2006-06-27                21592.0       -113656.0         78676.0  \n",
       "2006-07-03                20771.0       -121475.0         86290.0  \n",
       "2006-07-11                23685.0       -133486.0         98560.0  "
      ]
     },
     "execution_count": 24,
     "metadata": {},
     "output_type": "execute_result"
    }
   ],
   "source": [
    "goldFutureOptionData.head(5)"
   ]
  },
  {
   "cell_type": "code",
   "execution_count": 25,
   "metadata": {
    "collapsed": false
   },
   "outputs": [],
   "source": [
    "common_path=\"C:\\\\pythoncoding\\\\data\\\\gold\\\\\"\n",
    "'''\n",
    "skiprows=[0,1] 跳过行首第1,2行\n",
    "skip_footer=1 跳过行尾最后一行\n",
    "index_col=0 以0列作为行索引\n",
    "names=['price'] 设置列名\n",
    "'''\n",
    "gold_London_spot_dollar=pd.read_excel(common_path+\"gold_Londun_spot_dollar.xls\",\\\n",
    "                                      skiprows=[0,1],skip_footer=1,names=['gold_price(dollar)'],index_col=0)\n",
    "gold_London_spot_dollar.index.name=\"Date\"\n",
    "gold=pd.merge(goldFutureOptionData,gold_London_spot_dollar,how=\"outer\",left_index=True,right_index=True)\n",
    "\n",
    "gold.ix[\"2009-01-01\":\"2011-12-30\",['net commercial','net speculator','gold_price(dollar)']].plot(secondary_y=['gold_price(dollar)'],grid=True)\n",
    "plt.show()"
   ]
  },
  {
   "cell_type": "code",
   "execution_count": 21,
   "metadata": {
    "collapsed": false
   },
   "outputs": [
    {
     "name": "stdout",
     "output_type": "stream",
     "text": [
      "            net commercial  net speculator  gold_price(dollar)      diff\n",
      "Date                                                                    \n",
      "2011-08-02       -330795.0        289250.0             1637.75  620045.0\n",
      "2010-10-12       -326216.0        282254.0             1348.50  608470.0\n",
      "2010-10-05       -323495.0        283462.0             1330.50  606957.0\n",
      "2009-10-20       -328344.0        278355.0             1061.75  606699.0\n",
      "2010-09-28       -326024.0        280380.0             1294.00  606404.0\n",
      "2009-10-13       -324604.0        280625.0             1057.50  605229.0\n",
      "2010-06-22       -326571.0        274203.0             1236.00  600774.0\n",
      "2010-05-11       -324389.0        276309.0             1222.50  600698.0\n",
      "2010-05-18       -324298.0        274769.0             1216.75  599067.0\n",
      "2010-10-19       -319503.0        275916.0             1339.00  595419.0\n",
      "2009-12-01       -322947.0        272418.0             1192.50  595365.0\n",
      "2010-09-21       -322165.0        272287.0             1275.00  594452.0\n",
      "2010-09-14       -321827.0        271989.0             1265.50  593816.0\n",
      "2010-06-29       -319908.0        273024.0             1234.50  592932.0\n",
      "2009-11-24       -318803.0        273553.0             1163.25  592356.0\n",
      "2009-11-09       -319055.0        272807.0             1106.75  591862.0\n",
      "2011-07-26       -317932.0        269489.0             1612.75  587421.0\n",
      "2009-11-03       -315730.0        271564.0             1061.00  587294.0\n",
      "2009-12-15       -318474.0        267967.0             1122.00  586441.0\n",
      "2009-11-17       -311772.0        270766.0             1134.75  582538.0\n",
      "2010-06-15       -316452.0        265983.0             1225.00  582435.0\n",
      "2010-11-09       -313503.0        267301.0             1421.00  580804.0\n",
      "2010-09-07       -313911.0        264633.0             1256.75  578544.0\n",
      "2009-12-08       -311654.0        264775.0             1146.75  576429.0\n",
      "2010-06-08       -311103.0        263468.0             1246.00  574571.0\n",
      "2009-10-27       -309032.0        265026.0             1036.50  574058.0\n",
      "2011-07-19       -308044.0        263063.0             1601.00  571107.0\n",
      "2010-08-31       -308752.0        260914.0             1246.00  569666.0\n",
      "2010-05-04       -304969.0        260990.0             1185.00  565959.0\n",
      "2011-08-16       -306505.0        257914.0             1782.50  564419.0\n",
      "...                    ...             ...                 ...       ...\n",
      "2011-01-04       -279692.0        224723.0             1388.50  504415.0\n",
      "2010-08-17       -272879.0        226964.0             1226.00  499843.0\n",
      "2011-05-31       -273183.0        222985.0             1536.50  496168.0\n",
      "2010-03-09       -269672.0        223637.0             1115.75  493309.0\n",
      "2011-09-13       -267621.0        224728.0             1820.00  492349.0\n",
      "2010-03-02       -268877.0        222905.0             1126.50  491782.0\n",
      "2010-04-06       -267847.0        223852.0             1132.75  491699.0\n",
      "2011-06-14       -269427.0        221852.0             1516.00  491279.0\n",
      "2010-01-26       -261755.0        222930.0             1093.25  484685.0\n",
      "2010-02-02       -258102.0        222282.0             1111.00  480384.0\n",
      "2011-02-22       -266791.0        213249.0             1401.00  480040.0\n",
      "2010-03-16       -261420.0        217279.0             1124.75  478699.0\n",
      "2011-03-29       -264085.0        213983.0             1417.50  478068.0\n",
      "2011-03-22       -262843.0        210534.0             1426.00  473377.0\n",
      "2011-05-24       -259797.0        213516.0             1527.00  473313.0\n",
      "2011-05-10       -259952.0        212964.0             1513.50  472916.0\n",
      "2010-02-23       -251414.0        211821.0             1107.00  463235.0\n",
      "2011-03-15       -253735.0        205615.0             1400.50  459350.0\n",
      "2010-08-10       -249201.0        207964.0             1192.50  457165.0\n",
      "2011-09-20       -251788.0        203032.0             1799.00  454820.0\n",
      "2011-01-11       -252193.0        201886.0             1374.00  454079.0\n",
      "2011-11-15       -250207.0        203798.0             1785.00  454005.0\n",
      "2009-06-02       -245438.0        204883.0              980.00  450321.0\n",
      "2011-11-08       -245857.0        200980.0             1795.00  446837.0\n",
      "2011-02-15       -247175.0        199425.0             1372.75  446600.0\n",
      "2010-07-27       -243032.0        202731.0             1168.00  445763.0\n",
      "2009-08-04       -240315.0        204174.0              960.50  444489.0\n",
      "2010-08-03       -239097.0        201556.0             1187.50  440653.0\n",
      "2009-06-09       -238613.0        201359.0              956.00  439972.0\n",
      "2010-03-23       -240721.0        198228.0             1101.50  438949.0\n",
      "\n",
      "[100 rows x 4 columns]\n"
     ]
    }
   ],
   "source": [
    "tmpdata = gold.ix[\"2009-01-01\":\"2011-12-30\",['net commercial','net speculator','gold_price(dollar)']]\n",
    "tmpdata[\"diff\"]=tmpdata['net speculator']-tmpdata['net commercial']\n",
    "tmpdata=tmpdata.sort_values(by=[\"diff\"],ascending=False)\n",
    "print tmpdata.head(100)\n",
    "tmpdata.ix[\"2009-01-01\":\"2011-12-30\",['diff','gold_price(dollar)']].plot(secondary_y=['gold_price(dollar)'],grid=True)\n",
    "plt.show()"
   ]
  },
  {
   "cell_type": "code",
   "execution_count": 34,
   "metadata": {
    "collapsed": false
   },
   "outputs": [
    {
     "name": "stdout",
     "output_type": "stream",
     "text": [
      "count       585.000000\n",
      "mean    -182826.755556\n",
      "std       82833.246943\n",
      "min     -372009.000000\n",
      "25%     -250399.000000\n",
      "50%     -179662.000000\n",
      "75%     -119588.000000\n",
      "max       -7050.000000\n",
      "Name: net commercial, dtype: float64\n",
      "========================================\n",
      "-301417.4\n"
     ]
    },
    {
     "data": {
      "text/plain": [
       "[<matplotlib.lines.Line2D at 0x12a9a710>]"
      ]
     },
     "execution_count": 34,
     "metadata": {},
     "output_type": "execute_result"
    }
   ],
   "source": [
    "print goldFutureOptionData['net commercial'].describe()\n",
    "print \"========================================\"\n",
    "print goldFutureOptionData[\"net commercial\"].quantile(0.1)\n",
    "x=np.arange(0,1,0.01)\n",
    "y=[]\n",
    "for i in x:\n",
    "    y.append(goldFutureOptionData[\"net commercial\"].quantile(i))\n",
    "plt.plot(y)"
   ]
  },
  {
   "cell_type": "code",
   "execution_count": 33,
   "metadata": {
    "collapsed": false
   },
   "outputs": [
    {
     "name": "stdout",
     "output_type": "stream",
     "text": [
      "[-372009.0, -346491.07999999996, -331977.40000000002, -325285.59999999998, -323014.84000000003, -319413.40000000002, -316423.12, -311668.15999999997, -307970.56, -304257.59999999998, -301417.40000000002, -295502.47999999998, -290169.64000000001, -288316.08000000002, -285645.83999999997, -282136.59999999998, -278253.88, -273097.88, -268121.56, -265798.64000000001, -262974.20000000001, -261184.47999999998, -259105.60000000003, -256802.96000000002, -252274.47999999998, -250399.0, -247336.28, -240650.27999999997, -238384.72, -236362.56, -233604.39999999999, -231613.92000000001, -227621.28, -225853.60000000001, -223189.96000000002, -221900.59999999998, -217737.44, -214630.63999999998, -211293.40000000002, -207306.15999999997, -205038.19999999995, -202518.88, -200278.35999999999, -197503.48000000001, -194015.35999999999, -191687.79999999999, -188880.67999999999, -186251.00000000003, -184258.67999999999, -182343.36000000004, -179662.0, -175981.11999999997, -174026.12, -169469.79999999999, -166409.35999999999, -162418.19999999998, -159979.39999999999, -157433.92000000001, -155335.48000000004, -152881.20000000001, -150472.39999999999, -147357.56, -144524.12, -142806.28, -139428.60000000001, -138139.39999999999, -136278.88, -135164.88, -133538.80000000002, -131654.60000000001, -128886.20000000004, -127554.28, -124703.04000000005, -123177.52, -122290.32000000001, -119588.0, -117708.11999999997, -116051.63999999998, -113807.67999999999, -111513.71999999997, -106108.59999999998, -104894.28, -101918.88, -98431.000000000044, -94828.360000000001, -89990.200000000012, -88422.199999999997, -83870.560000000012, -81289.080000000089, -79226.800000000017, -75941.599999999991, -72566.359999999971, -70007.280000000013, -65490.119999999995, -59186.720000000001, -55773.200000000019, -49953.080000000009, -43458.679999999993, -29574.840000000091, -19237.120000000061]\n"
     ]
    }
   ],
   "source": [
    "print y"
   ]
  },
  {
   "cell_type": "code",
   "execution_count": 26,
   "metadata": {
    "collapsed": false
   },
   "outputs": [
    {
     "name": "stdout",
     "output_type": "stream",
     "text": [
      "              Value\n",
      "Date               \n",
      "1968-04-01    38.00\n",
      "1968-04-02    37.60\n",
      "1968-04-03    37.70\n",
      "1968-04-04    36.70\n",
      "1968-04-05    37.20\n",
      "1968-04-08    37.00\n",
      "1968-04-09    37.25\n",
      "1968-04-10    37.60\n",
      "1968-04-11    38.05\n",
      "1968-04-16    38.10\n",
      "1968-04-17    38.00\n",
      "1968-04-18    37.60\n",
      "1968-04-19    37.65\n",
      "1968-04-22    38.30\n",
      "1968-04-23    38.05\n",
      "1968-04-24    38.35\n",
      "1968-04-25    38.25\n",
      "1968-04-26    38.50\n",
      "1968-04-29    38.55\n",
      "1968-04-30    39.10\n",
      "1968-05-01    39.10\n",
      "1968-05-02    39.25\n",
      "1968-05-03    39.60\n",
      "1968-05-06    39.70\n",
      "1968-05-07    39.30\n",
      "1968-05-08    39.50\n",
      "1968-05-09    39.70\n",
      "1968-05-10    39.80\n",
      "1968-05-13    39.40\n",
      "1968-05-14    39.60\n",
      "...             ...\n",
      "2016-03-04  1271.50\n",
      "2016-03-07  1267.60\n",
      "2016-03-08  1274.10\n",
      "2016-03-09  1258.25\n",
      "2016-03-10  1247.25\n",
      "2016-03-11  1262.25\n",
      "2016-03-14  1256.55\n",
      "2016-03-15  1233.60\n",
      "2016-03-16  1233.10\n",
      "2016-03-17  1269.60\n",
      "2016-03-18  1254.50\n",
      "2016-03-21  1244.25\n",
      "2016-03-22  1251.80\n",
      "2016-03-23  1232.20\n",
      "2016-03-24  1216.45\n",
      "2016-03-29  1216.45\n",
      "2016-03-30  1238.20\n",
      "2016-03-31  1233.60\n",
      "2016-04-01  1232.10\n",
      "2016-04-04  1215.00\n",
      "2016-04-05  1231.50\n",
      "2016-04-06  1225.75\n",
      "2016-04-07  1237.50\n",
      "2016-04-08  1235.00\n",
      "2016-04-11  1247.25\n",
      "2016-04-12  1259.20\n",
      "2016-04-13  1245.75\n",
      "2016-04-14  1240.30\n",
      "2016-04-15  1229.75\n",
      "2016-04-18  1237.70\n",
      "\n",
      "[12152 rows x 1 columns]\n"
     ]
    }
   ],
   "source": [
    "gold_price = quandl.get(\"BUNDESBANK/BBK01_WT5511\", authtoken=\"zatTe4QZ6xd4L__zxwJV\")\n",
    "print gold_price"
   ]
  },
  {
   "cell_type": "code",
   "execution_count": null,
   "metadata": {
    "collapsed": true
   },
   "outputs": [],
   "source": []
  }
 ],
 "metadata": {
  "anaconda-cloud": {},
  "kernelspec": {
   "display_name": "Python [default]",
   "language": "python",
   "name": "python2"
  },
  "language_info": {
   "codemirror_mode": {
    "name": "ipython",
    "version": 2
   },
   "file_extension": ".py",
   "mimetype": "text/x-python",
   "name": "python",
   "nbconvert_exporter": "python",
   "pygments_lexer": "ipython2",
   "version": "2.7.12"
  }
 },
 "nbformat": 4,
 "nbformat_minor": 1
}
