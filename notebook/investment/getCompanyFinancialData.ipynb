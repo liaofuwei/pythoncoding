{
 "cells": [
  {
   "cell_type": "code",
   "execution_count": 1,
   "metadata": {
    "collapsed": false
   },
   "outputs": [],
   "source": [
    "'''\n",
    "从tushare接口获取公司基本面数据\n",
    "本cell主要是获取所以数据，只运行1遍\n",
    "对获取数据的操作，在下面cell中操作，这样可以避免频繁的重复获取数据\n",
    "'''\n",
    "import tushare as ts\n",
    "import pandas as pd\n",
    "\n",
    "import sys\n",
    "default_encoding = 'utf-8'\n",
    "if sys.getdefaultencoding() != default_encoding:\n",
    "    reload(sys)\n",
    "    sys.setdefaultencoding(default_encoding)\n",
    "\n",
    "#按季度获取基本业绩数据，参数为（年份，季度）\n",
    "rd2015_3rd=ts.get_report_data(2014,4)\n",
    "\n",
    "\n",
    "'''\n",
    "返回参数：code,代码\n",
    "          name,名称\n",
    "        eps,每股收益\n",
    "        eps_yoy,每股收益同比(%)\n",
    "        bvps,每股净资产\n",
    "        roe,净资产收益率(%)\n",
    "        epcf,每股现金流量(元)\n",
    "        net_profits,净利润(万元)\n",
    "        profits_yoy,净利润同比(%)\n",
    "        distrib,分配方案\n",
    "        report_date,发布日期\n",
    "'''"
   ]
  },
  {
   "cell_type": "code",
   "execution_count": null,
   "metadata": {
    "collapsed": true
   },
   "outputs": [],
   "source": []
  },
  {
   "cell_type": "code",
   "execution_count": 3,
   "metadata": {
    "collapsed": false
   },
   "outputs": [],
   "source": [
    "rd=rd2015_3rd.set_index(\"code\")\n",
    "\n",
    "rd.columns=['name','EPS','eps_yoy','bvps','roe','epcf','net_profits','profits_yoy','distrib','report_date']\n",
    "rd[\"net_profits\"]=rd[\"net_profits\"]/10000 #将净利润按亿为单位\n",
    "rd=rd.ix[[\"601318\",\"600036\",\"601398\",\"601288\",\"601166\"]]\n",
    "rd.to_csv(\"c:\\\\pythoncoding\\\\data\\\\bank_report_data_2014_4.csv\",encoding=\"gb2312\")"
   ]
  },
  {
   "cell_type": "code",
   "execution_count": null,
   "metadata": {
    "collapsed": false
   },
   "outputs": [],
   "source": []
  },
  {
   "cell_type": "code",
   "execution_count": null,
   "metadata": {
    "collapsed": true
   },
   "outputs": [],
   "source": []
  }
 ],
 "metadata": {
  "kernelspec": {
   "display_name": "Python [default]",
   "language": "python",
   "name": "python2"
  },
  "language_info": {
   "codemirror_mode": {
    "name": "ipython",
    "version": 2
   },
   "file_extension": ".py",
   "mimetype": "text/x-python",
   "name": "python",
   "nbconvert_exporter": "python",
   "pygments_lexer": "ipython2",
   "version": "2.7.12"
  }
 },
 "nbformat": 4,
 "nbformat_minor": 0
}
