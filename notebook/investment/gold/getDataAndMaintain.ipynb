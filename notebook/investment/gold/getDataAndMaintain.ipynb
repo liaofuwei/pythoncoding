{
 "cells": [
  {
   "cell_type": "code",
   "execution_count": 1,
   "metadata": {
    "collapsed": true
   },
   "outputs": [],
   "source": [
    "import quandl\n",
    "import datetime\n",
    "import pandas as pd"
   ]
  },
  {
   "cell_type": "code",
   "execution_count": 2,
   "metadata": {
    "collapsed": false
   },
   "outputs": [],
   "source": [
    "\n",
    "#CFTC/GC_FO_ALL CFTC的gold持仓数据，包括future and option ，标签是CFTC/GC_FO_ALL\n",
    "#该数据为pandas dateframe结构，这里取出，再做处理\n",
    "goldFutureOptionData=quandl.get(\"CFTC/GC_FO_ALL\",authtoken=\"zatTe4QZ6xd4L__zxwJV\")\n",
    "dt=str(datetime.datetime.now().date())\n",
    "#存储按照CFTC标记来至于CFTC，goldFutureOptionData表示黄金期货期权数据，+获取的日期\n",
    "'''column name:\n",
    "Date.....Open Interest....Producer/Merchant/Processor/User Longs....Producer/Merchant/Processor/User Shorts..\n",
    "Swap Dealer Longs..Swap Dealer Shorts\n",
    "Swap Dealer Spreads....Money Manager Longs......Money Manager Shorts....Money Manager Spreads....Other Reportable Longs.....\n",
    "Other Reportable Shorts.....Other Reportable Spreads....Total Reportable Longs....Total Reportable Shorts.....Non Reportable Longs...\n",
    "Non Reportable Shorts\n",
    "'''\n",
    "goldFutureOptionData.to_csv(\"E:\\\\pythoncoding\\\\data\\\\gold\\\\CFTC_goldFutureOptionData_\"+dt+\".csv\")"
   ]
  },
  {
   "cell_type": "code",
   "execution_count": 3,
   "metadata": {
    "collapsed": true
   },
   "outputs": [],
   "source": [
    "#CFTC/SI_FO_ALL CFTC的silver持仓数据，包括future and option ，标签是CFTC/SI_FO_ALL\n",
    "silverFutureOptionData=quandl.get(\"CFTC/SI_FO_ALL\", authtoken=\"zatTe4QZ6xd4L__zxwJV\")\n",
    "dt=str(datetime.datetime.now().date())\n",
    "silverFutureOptionData.to_csv(\"E:\\\\pythoncoding\\\\data\\\\gold\\\\CFTC_silverFutureOptionData_\"+dt+\".csv\")"
   ]
  },
  {
   "cell_type": "code",
   "execution_count": 4,
   "metadata": {
    "collapsed": true
   },
   "outputs": [],
   "source": [
    "#CFTC/DX_FO_L_ALL CFTC的dollar index持仓数据，包括future and option ，标签是CFTC/DX_FO_ALL\n",
    "usdollarFutureOptionData=quandl.get(\"CFTC/DX_FO_ALL\", authtoken=\"zatTe4QZ6xd4L__zxwJV\")\n",
    "dt=str(datetime.datetime.now().date())\n",
    "usdollarFutureOptionData.to_csv(\"E:\\\\pythoncoding\\\\data\\\\gold\\\\CFTC_usdollarFutureOptionData_\"+dt+\".csv\")"
   ]
  },
  {
   "cell_type": "code",
   "execution_count": 2,
   "metadata": {
    "collapsed": true
   },
   "outputs": [],
   "source": [
    "from bs4 import BeautifulSoup\n",
    "import requests\n",
    "\n",
    "import time\n",
    "import urllib\n",
    "import numpy as np"
   ]
  },
  {
   "cell_type": "code",
   "execution_count": 3,
   "metadata": {
    "collapsed": false
   },
   "outputs": [],
   "source": [
    "'''\n",
    "从新浪行情获取comex 黄金实时数据\n",
    "并以添加模式写入到csv中\n",
    "'''\n",
    "COMEXgold_Url =\"http://hq.sinajs.cn/list=hf_GC\"\n",
    "COMEXgold_web_data = requests.get(COMEXgold_Url)\n",
    "COMEXgold_soup = BeautifulSoup(COMEXgold_web_data.text,\"lxml\")\n",
    "rawdata=COMEXgold_soup.get_text()\n",
    "rawdataList=rawdata.split(\"\\\"\")\n",
    "data = rawdataList[1].split(\",\")\n",
    "if len(data)==14:\n",
    "    comex_gold={\n",
    "        \"real_price\":data[0],\n",
    "        \"price_change\":data[1],\n",
    "        \"buy_price\":data[2],\n",
    "        \"sell_price\":data[3],\n",
    "        \"high\":data[4],\n",
    "        \"low\":data[5],\n",
    "        \"time\":data[6],\n",
    "        \"close_price\":data[7],\n",
    "        \"open_price\":data[8],\n",
    "        \"pisition\":data[9],\n",
    "        \"date\":data[12]\n",
    "    }\n",
    "\n",
    "#comexData=pd.Series(comex_gold,index=['date','time','real_price','price_change','buy_price','sell_price','high','low','close_price',\\\n",
    "#                                      'open_price','pisition'])\n",
    "\n",
    "    comexData=pd.DataFrame(comex_gold,columns=['date','time','real_price','price_change','buy_price','sell_price','high','low','close_price',\\\n",
    "                                               'open_price','pisition'],index=[0])\n",
    "    dt=str(datetime.datetime.now().date())\n",
    "#comexData.to_csv(\"E:\\\\pythoncoding\\\\data\\\\gold\\\\COMEX_gold_\"+dt+\".csv\")\n",
    "#以添加模式加入到csv文件中\n",
    "    comexData.to_csv(\"E:\\\\pythoncoding\\\\data\\\\gold\\\\COMEX_gold_\"+dt+\".csv\",mode='a',header=False)  \n",
    "    \n"
   ]
  },
  {
   "cell_type": "code",
   "execution_count": 4,
   "metadata": {
    "collapsed": false
   },
   "outputs": [],
   "source": [
    "'''\n",
    "从新浪行情获取london 黄金实时数据\n",
    "并以添加模式写入到csv中\n",
    "'''\n",
    "Londongold_Url =\"http://hq.sinajs.cn/list=hf_XAU\"\n",
    "Londongold_web_data = requests.get(Londongold_Url)\n",
    "Londongold_soup = BeautifulSoup(Londongold_web_data.text,\"lxml\")\n",
    "rawdata=Londongold_soup.get_text()\n",
    "rawdataList=rawdata.split(\"\\\"\")\n",
    "data = rawdataList[1].split(\",\")\n",
    "\n",
    "if len(data)==14:\n",
    "    London_gold={\n",
    "        \"real_price\":data[0],\n",
    "        \"price_change\":data[1],\n",
    "        \"buy_price\":data[2],\n",
    "        \"sell_price\":data[3],\n",
    "        \"high\":data[4],\n",
    "        \"low\":data[5],\n",
    "        \"time\":data[6],\n",
    "        \"close_price\":data[7],\n",
    "        \"open_price\":data[8],\n",
    "        \"pisition\":data[9],\n",
    "        \"date\":data[12]\n",
    "    }\n",
    "\n",
    "\n",
    "\n",
    "    #comexData=pd.Series(comex_gold,index=['date','time','real_price','price_change','buy_price','sell_price','high','low','close_price',\\\n",
    "    #                                      'open_price','pisition'])\n",
    "\n",
    "    LondonData=pd.DataFrame(London_gold,columns=['date','time','real_price','price_change','buy_price','sell_price','high','low','close_price',\\\n",
    "                                                'open_price','pisition'],index=[0])\n",
    "    dt=str(datetime.datetime.now().date())\n",
    "#LondonData.to_csv(\"E:\\\\pythoncoding\\\\data\\\\gold\\\\London_gold_\"+dt+\".csv\")\n",
    "#以添加模式加入到csv文件中\n",
    "    LondonData.to_csv(\"E:\\\\pythoncoding\\\\data\\\\gold\\\\London_gold_\"+dt+\".csv\",mode='a',header=False)                                           \n"
   ]
  },
  {
   "cell_type": "code",
   "execution_count": 5,
   "metadata": {
    "collapsed": false
   },
   "outputs": [],
   "source": [
    "'''\n",
    "从新浪行情获取comex 白银实时数据\n",
    "并以添加模式写入到csv中\n",
    "'''\n",
    "COMEXsilver_Url =\"http://hq.sinajs.cn/list=hf_SI\"\n",
    "COMEXsilver_web_data = requests.get(COMEXsilver_Url)\n",
    "COMEXsilver_soup = BeautifulSoup(COMEXsilver_web_data.text,\"lxml\")\n",
    "rawdata=COMEXsilver_soup.get_text()\n",
    "rawdataList=rawdata.split(\"\\\"\")\n",
    "data = rawdataList[1].split(\",\")\n",
    "if len(data)==14:\n",
    "    comex_silver={\n",
    "        \"real_price\":data[0],\n",
    "        \"price_change\":data[1],\n",
    "        \"buy_price\":data[2],\n",
    "        \"sell_price\":data[3],\n",
    "        \"high\":data[4],\n",
    "        \"low\":data[5],\n",
    "        \"time\":data[6],\n",
    "        \"close_price\":data[7],\n",
    "        \"open_price\":data[8],\n",
    "        \"pisition\":data[9],\n",
    "        \"date\":data[12]\n",
    "    }\n",
    "\n",
    "#comexData=pd.Series(comex_gold,index=['date','time','real_price','price_change','buy_price','sell_price','high','low','close_price',\\\n",
    "#                                      'open_price','pisition'])\n",
    "\n",
    "    comexData=pd.DataFrame(comex_silver,columns=['date','time','real_price','price_change','buy_price','sell_price','high','low','close_price',\\\n",
    "                                               'open_price','pisition'],index=[0])\n",
    "    dt=str(datetime.datetime.now().date())\n",
    "    #comexData.to_csv(\"E:\\\\pythoncoding\\\\data\\\\gold\\\\COMEX_silver_\"+dt+\".csv\")\n",
    "#以添加模式加入到csv文件中\n",
    "    comexData.to_csv(\"E:\\\\pythoncoding\\\\data\\\\gold\\\\COMEX_silver_\"+dt+\".csv\",mode='a',header=False)  \n",
    "    "
   ]
  },
  {
   "cell_type": "code",
   "execution_count": 6,
   "metadata": {
    "collapsed": false
   },
   "outputs": [],
   "source": [
    "'''\n",
    "从新浪行情获取上海金交所 黄金T+D 实时数据\n",
    "并以添加模式写入到csv中\n",
    "'''\n",
    "shanghaigold_TD_Url =\"http://hq.sinajs.cn/list=SGE_AUTD\"\n",
    "shanghaigoldTD_web_data = requests.get(shanghaigold_TD_Url)\n",
    "shanghaigoldTD_soup = BeautifulSoup(shanghaigoldTD_web_data.text,\"lxml\")\n",
    "rawdata=shanghaigoldTD_soup.get_text()\n",
    "rawdataList=rawdata.split(\"\\\"\")\n",
    "data = rawdataList[1].split(\",\")\n",
    "if len(data)==18:\n",
    "    shanghai_goldTD={\n",
    "        \"real_price\":data[3],\n",
    "        \"price_change\":data[4],\n",
    "        \"buy_price\":data[10],\n",
    "        \"sell_price\":data[11],\n",
    "        \"high\":data[7],\n",
    "        \"low\":data[8],\n",
    "        \"close_price\":data[9],\n",
    "        \"open_price\":data[6],\n",
    "        \"pisition\":data[14],\n",
    "        \"date\":data[16]\n",
    "    }\n",
    "\n",
    "\n",
    "\n",
    "    #shanghaiData=pd.Series(shanghai_goldTD,index=['date','real_price','price_change','buy_price','sell_price','high','low','close_price',\\\n",
    "    #                                      'open_price','pisition'])\n",
    "\n",
    "    shanghaiData=pd.DataFrame(shanghai_goldTD,columns=['date','real_price','price_change','buy_price','sell_price','high','low','close_price',\\\n",
    "                                                'open_price','pisition'],index=[0])\n",
    "    dt=str(datetime.datetime.now().date())\n",
    "    #shanghaiData.to_csv(\"E:\\\\pythoncoding\\\\data\\\\gold\\\\shanghai_goldTD_\"+dt+\".csv\")\n",
    "#以添加模式加入到csv文件中\n",
    "    shanghaiData.to_csv(\"E:\\\\pythoncoding\\\\data\\\\gold\\\\shanghai_goldTD_\"+dt+\".csv\",mode='a',header=False)\n"
   ]
  },
  {
   "cell_type": "code",
   "execution_count": 7,
   "metadata": {
    "collapsed": true
   },
   "outputs": [],
   "source": [
    "'''\n",
    "从新浪行情获取上海金交所 白银T+D 实时数据\n",
    "并以添加模式写入到csv中\n",
    "'''\n",
    "shanghaiSilver_TD_Url =\"http://hq.sinajs.cn/list=SGE_AGTD\"\n",
    "shanghaiSilverTD_web_data = requests.get(shanghaiSilver_TD_Url)\n",
    "shanghaiSilverTD_soup = BeautifulSoup(shanghaiSilverTD_web_data.text,\"lxml\")\n",
    "rawdata=shanghaiSilverTD_soup.get_text()\n",
    "rawdataList=rawdata.split(\"\\\"\")\n",
    "data = rawdataList[1].split(\",\")\n",
    "if len(data)==18:\n",
    "    shanghai_silverTD={\n",
    "        \"real_price\":data[3],\n",
    "        \"price_change\":data[4],\n",
    "        \"buy_price\":data[10],\n",
    "        \"sell_price\":data[11],\n",
    "        \"high\":data[7],\n",
    "        \"low\":data[8],\n",
    "        \"close_price\":data[9],\n",
    "        \"open_price\":data[6],\n",
    "        \"pisition\":data[14],\n",
    "        \"date\":data[16]\n",
    "    }\n",
    "\n",
    "\n",
    "\n",
    "    #shanghaiData=pd.Series(shanghai_silverTD,index=['date','real_price','price_change','buy_price','sell_price','high','low','close_price',\\\n",
    "    #                                      'open_price','pisition'])\n",
    "\n",
    "    shanghaiData=pd.DataFrame(shanghai_silverTD,columns=['date','real_price','price_change','buy_price','sell_price','high','low','close_price',\\\n",
    "                                                'open_price','pisition'],index=[0])\n",
    "    dt=str(datetime.datetime.now().date())\n",
    "    #shanghaiData.to_csv(\"E:\\\\pythoncoding\\\\data\\\\gold\\\\shanghai_silverTD_\"+dt+\".csv\")\n",
    "#以添加模式加入到csv文件中\n",
    "    shanghaiData.to_csv(\"E:\\\\pythoncoding\\\\data\\\\gold\\\\shanghai_silverTD_\"+dt+\".csv\",mode='a',header=False)"
   ]
  },
  {
   "cell_type": "code",
   "execution_count": null,
   "metadata": {
    "collapsed": true
   },
   "outputs": [],
   "source": []
  }
 ],
 "metadata": {
  "anaconda-cloud": {},
  "kernelspec": {
   "display_name": "Python [default]",
   "language": "python",
   "name": "python2"
  },
  "language_info": {
   "codemirror_mode": {
    "name": "ipython",
    "version": 2
   },
   "file_extension": ".py",
   "mimetype": "text/x-python",
   "name": "python",
   "nbconvert_exporter": "python",
   "pygments_lexer": "ipython2",
   "version": "2.7.12"
  }
 },
 "nbformat": 4,
 "nbformat_minor": 1
}
