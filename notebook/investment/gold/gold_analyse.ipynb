{
 "cells": [
  {
   "cell_type": "code",
   "execution_count": 1,
   "metadata": {
    "collapsed": true
   },
   "outputs": [],
   "source": [
    "import pandas as pd\n",
    "import datetime\n",
    "import matplotlib.pyplot as plt\n",
    "import numpy as np"
   ]
  },
  {
   "cell_type": "code",
   "execution_count": 5,
   "metadata": {
    "collapsed": false
   },
   "outputs": [],
   "source": [
    "\n",
    "#需要用到的一些数据表\n",
    "shanghai_gold_spot = pd.read_csv(\"c:\\\\pythoncoding\\\\data\\\\gold\\\\sh_gold_spot.csv\",index_col = \"date\")\n",
    "shanghai_gold_future = pd.read_csv(\"c:\\\\pythoncoding\\\\data\\\\gold\\\\sh_gold_future.csv\",index_col = \"date\")\n",
    "shanghaiGoldSpotVsFuture = pd.merge(shanghai_gold_spot,shanghai_gold_future,left_index = True,right_index = True)\n",
    "shanghaiGoldSpotVsFuture.index = pd.to_datetime(shanghaiGoldSpotVsFuture.index)\n",
    "\n",
    "\n",
    "#获得宏观货币数据，M2\n",
    "m2yoy = pd.read_csv(\"c:\\\\pythoncoding\\\\data\\\\money\\\\m2_yoy.csv\",index_col = \"date\")\n",
    "m2yoy.index = pd.to_datetime(m2yoy.index)\n",
    "\n",
    "standard = pd.read_csv(\"c:\\\\pythoncoding\\\\data\\\\money\\\\standard.csv\",index_col=\"date\")\n",
    "standard.index = pd.to_datetime(standard.index)\n",
    "\n",
    "m2yoy_full = pd.merge(standard,m2yoy,left_index=True,right_index=True,how=\"outer\")\n",
    "m2yoy_full = m2yoy_full.ix[\"2002-11-1\":,[\"m2_yoy\"]]\n",
    "m2yoy_full = m2yoy_full.fillna(method=\"ffill\")\n",
    "\n",
    "#获得宏观货币数据，M1\n",
    "m1yoy = pd.read_csv(\"c:\\\\pythoncoding\\\\data\\\\money\\\\m1_yoy.csv\",index_col = \"date\")\n",
    "m1yoy.index = pd.to_datetime(m1yoy.index)\n",
    "\n",
    "m1yoy_full = pd.merge(standard,m1yoy,left_index=True,right_index=True,how=\"outer\")\n",
    "m1yoy_full = m1yoy_full.ix[\"2002-11-1\":\"2016-03-31\",[\"m1:yoy\"]]\n",
    "\n",
    "m1yoy_full = m1yoy_full.fillna(method=\"bfill\")\n",
    "#m1yoy_full.to_csv(\"c:\\\\pythoncoding\\\\data\\\\gold\\\\m1yoy_full.csv\")\n",
    "\n",
    "shanghaiGoldSpot_m2yoyfull=pd.merge(shanghai_gold_spot,m2yoy_full,left_index = True,right_index = True)\n",
    "shanghaiGoldSpot_m1m2yoyfull=pd.merge(shanghaiGoldSpot_m2yoyfull,m1yoy_full,left_index=True,right_index=True)\n",
    "#shanghaiGoldSpot_m2yoyfull.plot()\n",
    "#plt.show()\n",
    "#shanghaiGoldSpot_m1m2yoyfull.to_csv(\"c:\\\\pythoncoding\\\\data\\\\gold\\\\shanghaiGoldSpot_m1m2yoy.csv\")\n"
   ]
  },
  {
   "cell_type": "code",
   "execution_count": 37,
   "metadata": {
    "collapsed": false
   },
   "outputs": [
    {
     "name": "stdout",
     "output_type": "stream",
     "text": [
      "2010-06-02    2\n",
      "2010-06-03    1\n",
      "2010-06-04    2\n",
      "2010-06-07    1\n",
      "2010-06-08    1\n",
      "Name: Au(T+D):paidfor, dtype: int64\n",
      "long paidfor short:155\n",
      " short paidfor long:188\n"
     ]
    }
   ],
   "source": [
    "#黄金现货与T+D的比较，该部分分析，只需要要依赖上面的库，不依赖其他代码\n",
    "shanghai_gold_spot = pd.read_csv(\"c:\\\\pythoncoding\\\\data\\\\gold\\\\sh_gold_spot.csv\",index_col = \"date\")\n",
    "Au_TD = pd.read_csv(\"c:\\\\pythoncoding\\\\data\\\\gold\\\\AU_TDsettlement.csv\",index_col=\"date\")\n",
    "Au_TDpaidfor = pd.read_csv(\"c:\\\\pythoncoding\\\\data\\\\gold\\\\AU_TDpayedfor.csv\",index_col=\"date\")\n",
    "Au_TDpaidfor.index = pd.to_datetime(Au_TDpaidfor.index)\n",
    "shanghai_gold_spot.index = pd.to_datetime(shanghai_gold_spot.index)\n",
    "Au_TD.index = pd.to_datetime(Au_TD.index)\n",
    "spotVsTd = pd.merge(shanghai_gold_spot,Au_TD,left_index=True,right_index=True)\n",
    "Au_TDpaidfor2008_11to2011_11 = Au_TDpaidfor.ix[\"2008-11-01\":\"2011-11-01\",\"Au(T+D):paidfor\"]\n",
    "#print Au_TDpaidfor2008_11to2011_11.head()\n",
    "direct_count = Au_TDpaidfor2008_11to2011_11.value_counts()\n",
    "\n",
    "print \"long paidfor short:%d\\nshort paidfor long:%d\"%(direct_count[1],direct_count[2])\n",
    "\n",
    "#spotVsTd.plot()\n",
    "#plt.show()"
   ]
  },
  {
   "cell_type": "code",
   "execution_count": 21,
   "metadata": {
    "collapsed": false
   },
   "outputs": [],
   "source": [
    "#分析london spot与上海spot间的关系，只要涉及的变量为汇率因素\n",
    "shanghai_gold_spot = pd.read_csv(\"c:\\\\pythoncoding\\\\data\\\\gold\\\\sh_gold_spot.csv\",index_col = \"date\")\n",
    "shanghai_gold_spot.index = pd.to_datetime(shanghai_gold_spot.index)\n",
    "london_gold_spot = pd.read_csv(\"c:\\\\pythoncoding\\\\data\\\\gold\\\\london_gold_spot.csv\",index_col = \"date\")\n",
    "london_gold_spot.index = pd.to_datetime(london_gold_spot.index)\n",
    "\n",
    "USD2CNY = pd.read_csv(\"c:\\\\pythoncoding\\\\data\\\\money\\\\USD2CNY.csv\",index_col = \"date\")\n",
    "USD2CNY.index = pd.to_datetime(USD2CNY.index)\n",
    "Oz2g = 31.1035 #一盎司=31.1035g\n",
    "\n",
    "shanghai2london = pd.merge(shanghai_gold_spot,london_gold_spot,left_index=True,right_index=True)\n",
    "shanghai2london[\"london spot:dollar\"] = shanghai2london[\"london spot:dollar\"].map(lambda x:float(x)/Oz2g)\n",
    "shanghai2london = pd.merge(shanghai2london,USD2CNY,left_index=True,right_index=True)\n",
    "shanghai2london[\"london spot:CNY\"] = shanghai2london[\"london spot:dollar\"]*shanghai2london[\"USD/CNY:spot\"]\n",
    "shanghai2london.ix[:,[\"close:Au9999\",\"london spot:CNY\"]].plot()\n",
    "plt.show()\n"
   ]
  },
  {
   "cell_type": "code",
   "execution_count": 35,
   "metadata": {
    "collapsed": false
   },
   "outputs": [
    {
     "name": "stdout",
     "output_type": "stream",
     "text": [
      "54.3837056798\n"
     ]
    }
   ],
   "source": [
    "#分析黄金与白银比\n",
    "london_Ag_spot = pd.read_csv(\"c:\\\\pythoncoding\\\\data\\\\gold\\\\Ag london spot.csv\",index_col = \"date\")\n",
    "london_Ag_spot.index = pd.to_datetime(london_Ag_spot.index)\n",
    "london_Au_spot = pd.read_csv(\"c:\\\\pythoncoding\\\\data\\\\gold\\\\Au london spot.csv\",index_col = \"date\")\n",
    "london_Au_spot.index = pd.to_datetime(london_Au_spot.index)\n",
    "\n",
    "londonAu2Ag = pd.merge(london_Ag_spot,london_Au_spot,left_index=True,right_index=True)\n",
    "\n",
    "londonAu2Ag[\"Au/Ag\"] = londonAu2Ag[\"Au london spot:dollar\"]/londonAu2Ag[\"Ag spot:dollar\"]\n",
    "londonAu2Ag[\"Au/Ag\"].plot()\n",
    "plt.show()\n",
    "print londonAu2Ag[\"Au/Ag\"].mean()"
   ]
  },
  {
   "cell_type": "code",
   "execution_count": 11,
   "metadata": {
    "collapsed": false
   },
   "outputs": [
    {
     "name": "stdout",
     "output_type": "stream",
     "text": [
      "-0.465026431367\n"
     ]
    }
   ],
   "source": [
    "#分析黄金与美元指数关系\n",
    "london_Au_spot = pd.read_csv(\"c:\\\\pythoncoding\\\\data\\\\gold\\\\Au london spot.csv\",index_col = \"date\")\n",
    "london_Au_spot.index = pd.to_datetime(london_Au_spot.index)\n",
    "usdollarIndex = pd.read_csv(\"c:\\\\pythoncoding\\\\data\\\\usdollarindex.csv\",index_col = \"date\")\n",
    "usdollarIndex.index = pd.to_datetime(usdollarIndex.index)\n",
    "\n",
    "AuVsUsdollarIndex = pd.merge(london_Au_spot,usdollarIndex,left_index=True,right_index=True)\n",
    "AuVsUsdollarIndex = AuVsUsdollarIndex.ix[\"2007-01-01\":\"2009-12-31\",[\"Au london spot:dollar\",\"close\"]]\n",
    "corr = AuVsUsdollarIndex[\"Au london spot:dollar\"].corr(AuVsUsdollarIndex[\"close\"])\n",
    "print corr\n",
    "\n",
    "AuVsUsdollarIndex.plot(secondary_y=[\"close\"])\n",
    "plt.show()"
   ]
  },
  {
   "cell_type": "code",
   "execution_count": null,
   "metadata": {
    "collapsed": true
   },
   "outputs": [],
   "source": []
  }
 ],
 "metadata": {
  "kernelspec": {
   "display_name": "Python [default]",
   "language": "python",
   "name": "python2"
  },
  "language_info": {
   "codemirror_mode": {
    "name": "ipython",
    "version": 2
   },
   "file_extension": ".py",
   "mimetype": "text/x-python",
   "name": "python",
   "nbconvert_exporter": "python",
   "pygments_lexer": "ipython2",
   "version": "2.7.12"
  }
 },
 "nbformat": 4,
 "nbformat_minor": 0
}
