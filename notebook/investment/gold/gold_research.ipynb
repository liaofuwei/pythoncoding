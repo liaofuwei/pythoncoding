{
 "cells": [
  {
   "cell_type": "code",
   "execution_count": 1,
   "metadata": {
    "collapsed": true
   },
   "outputs": [],
   "source": [
    "import pandas as pd\n",
    "import datetime\n",
    "import matplotlib.pyplot as plt\n",
    "import numpy as np\n",
    "%matplotlib qt5"
   ]
  },
  {
   "cell_type": "code",
   "execution_count": 56,
   "metadata": {
    "collapsed": false
   },
   "outputs": [
    {
     "name": "stdout",
     "output_type": "stream",
     "text": [
      "       gold/silver\n",
      "count  2435.000000\n",
      "mean     63.184150\n",
      "std      10.313134\n",
      "min      31.529774\n",
      "25%      54.596437\n",
      "50%      64.736842\n",
      "75%      71.656320\n",
      "max      84.460196\n"
     ]
    }
   ],
   "source": [
    "common_path=\"E:\\\\pythoncoding\\\\data\\\\gold\\\\\"\n",
    "'''\n",
    "skiprows=[0,1] 跳过行首第1,2行\n",
    "skip_footer=1 跳过行尾最后一行\n",
    "index_col=0 以0列作为行索引\n",
    "names=['price'] 设置列名\n",
    "'''\n",
    "gold_London_spot_dollar=pd.read_excel(common_path+\"gold_Londun_spot_dollar.xls\",\\\n",
    "                                      skiprows=[0,1],skip_footer=1,names=['gold_price(dollar)'],index_col=0)\n",
    "gold_London_spot_dollar.index.name=\"date\"\n",
    "\n",
    "silver_London_spot_dollar=pd.read_excel(common_path+\"silver_Londun_spot_dollar.xls\",\\\n",
    "                                       skiprows=[0,1],skip_footer=1,names=['siver_price(dollar)'],index_col=0)\n",
    "silver_London_spot_dollar.index.name=\"date\"\n",
    "#print silver_London_spot_dollar.head(5)\n",
    "#print gold_London_spot_dollar.ix['1968-01-03',['price']]\n",
    "\n",
    "#分析金银比指标\n",
    "gold_silver_merge=pd.merge(gold_London_spot_dollar,silver_London_spot_dollar,left_index = True,right_index = True)\n",
    "gold_silver_merge['gold/silver']=gold_London_spot_dollar['gold_price(dollar)']/silver_London_spot_dollar['siver_price(dollar)']\n",
    "gold_silver_merge.ix[\"2008-01-01\":,['gold/silver']].plot()\n",
    "plt.show()\n",
    "print gold_silver_merge.ix[\"2008-01-01\":,['gold/silver']].describe()"
   ]
  },
  {
   "cell_type": "code",
   "execution_count": 3,
   "metadata": {
    "collapsed": false
   },
   "outputs": [],
   "source": [
    "gold_commercial_long=pd.read_excel(common_path+\"gold_commercial_long.xls\",\\\n",
    "                                  skiprows=[0,1],skip_footer=1,names=['position(long)'],index_col=0)\n",
    "gold_commercial_long.index.name=\"date\"\n",
    "gold_commercial_short=pd.read_excel(common_path+\"gold_commercial_short.xls\",\\\n",
    "                                  skiprows=[0,1],skip_footer=1,names=['position(short)'],index_col=0)\n",
    "gold_commercial_short.index.name=\"date\"\n",
    "\n",
    "gold_commercial = pd.merge(gold_commercial_long,gold_commercial_short,left_index = True,right_index = True)\n",
    "gold_commercial['net position(short-long)'] = gold_commercial['position(short)']-gold_commercial['position(long)']\n",
    "\n",
    "#gold_commercial.ix[\"2008-01-01\":,['net position(short-long)']].plot()\n",
    "#plt.show()\n",
    "\n",
    "price_position_merge=pd.merge(gold_commercial,gold_London_spot_dollar,left_index = True,right_index = True)\n",
    "price_position_merge.ix[\"2008-01-01\":,['net position(short-long)','gold_price(dollar)']].plot()"
   ]
  },
  {
   "cell_type": "code",
   "execution_count": 67,
   "metadata": {
    "collapsed": false
   },
   "outputs": [],
   "source": [
    "goldFutureOptionTable = pd.read_csv(common_path+\"goldFutureOptionTable.csv\",index_col=\"date\")\n",
    "#goldFutureOptionTable.sort_index()\n",
    "goldFutureOptionTable.index = pd.to_datetime(goldFutureOptionTable.index)\n",
    "\n",
    "def str2int(x):\n",
    "    dotindex = x.find(',')\n",
    "    if dotindex == -1:\n",
    "        return int(x)\n",
    "    else:\n",
    "        x=x[:dotindex]+x[dotindex+1:]\n",
    "        return int(x)\n",
    "\n",
    "\n",
    "goldFutureOptionTable[\"net speculator\"] = goldFutureOptionTable[\"speculator(long)\"].map(str2int) \\\n",
    "                                          - goldFutureOptionTable[\"speculator(short)\"].map(str2int)\n",
    "goldFutureOptionTable[\"net commercial\"] = goldFutureOptionTable[\"commercial(long)\"].map(str2int) \\\n",
    "                                          - goldFutureOptionTable[\"commercial(short)\"].map(str2int)\n",
    "goldFutureOptionTable.ix[:,[\"net speculator\",\"net commercial\"]].plot()\n",
    "plt.show()"
   ]
  },
  {
   "cell_type": "code",
   "execution_count": 62,
   "metadata": {
    "collapsed": false
   },
   "outputs": [
    {
     "name": "stdout",
     "output_type": "stream",
     "text": [
      "123234\n"
     ]
    }
   ],
   "source": [
    "tmp=\"123,234\"\n",
    "tmpindex=tmp.find(\",\")\n",
    "tmp=tmp[:tmpindex]+tmp[tmpindex+1:]\n",
    "print tmp"
   ]
  },
  {
   "cell_type": "code",
   "execution_count": 1,
   "metadata": {
    "collapsed": false
   },
   "outputs": [
    {
     "ename": "NameError",
     "evalue": "name 'quandl' is not defined",
     "output_type": "error",
     "traceback": [
      "\u001b[0;31m---------------------------------------------------------------------------\u001b[0m",
      "\u001b[0;31mNameError\u001b[0m                                 Traceback (most recent call last)",
      "\u001b[0;32m<ipython-input-1-22275c68ffe8>\u001b[0m in \u001b[0;36m<module>\u001b[0;34m()\u001b[0m\n\u001b[0;32m----> 1\u001b[0;31m \u001b[0mgold_price\u001b[0m \u001b[1;33m=\u001b[0m \u001b[0mquandl\u001b[0m\u001b[1;33m.\u001b[0m\u001b[0mget\u001b[0m\u001b[1;33m(\u001b[0m\u001b[1;34m\"BUNDESBANK/BBK01_WT5511\"\u001b[0m\u001b[1;33m,\u001b[0m \u001b[0mauthtoken\u001b[0m\u001b[1;33m=\u001b[0m\u001b[1;34m\"zatTe4QZ6xd4L__zxwJV\"\u001b[0m\u001b[1;33m)\u001b[0m\u001b[1;33m\u001b[0m\u001b[0m\n\u001b[0m\u001b[1;32m      2\u001b[0m \u001b[1;32mprint\u001b[0m \u001b[0mgold_price\u001b[0m\u001b[1;33m\u001b[0m\u001b[0m\n",
      "\u001b[0;31mNameError\u001b[0m: name 'quandl' is not defined"
     ]
    }
   ],
   "source": []
  },
  {
   "cell_type": "code",
   "execution_count": null,
   "metadata": {
    "collapsed": true
   },
   "outputs": [],
   "source": []
  },
  {
   "cell_type": "code",
   "execution_count": null,
   "metadata": {
    "collapsed": false
   },
   "outputs": [],
   "source": []
  },
  {
   "cell_type": "code",
   "execution_count": null,
   "metadata": {
    "collapsed": false
   },
   "outputs": [],
   "source": []
  },
  {
   "cell_type": "code",
   "execution_count": null,
   "metadata": {
    "collapsed": true
   },
   "outputs": [],
   "source": []
  },
  {
   "cell_type": "code",
   "execution_count": null,
   "metadata": {
    "collapsed": true
   },
   "outputs": [],
   "source": []
  },
  {
   "cell_type": "code",
   "execution_count": null,
   "metadata": {
    "collapsed": true
   },
   "outputs": [],
   "source": []
  },
  {
   "cell_type": "code",
   "execution_count": null,
   "metadata": {
    "collapsed": true
   },
   "outputs": [],
   "source": []
  },
  {
   "cell_type": "code",
   "execution_count": null,
   "metadata": {
    "collapsed": false
   },
   "outputs": [],
   "source": []
  },
  {
   "cell_type": "code",
   "execution_count": null,
   "metadata": {
    "collapsed": false
   },
   "outputs": [],
   "source": []
  },
  {
   "cell_type": "code",
   "execution_count": null,
   "metadata": {
    "collapsed": false
   },
   "outputs": [],
   "source": []
  },
  {
   "cell_type": "code",
   "execution_count": null,
   "metadata": {
    "collapsed": false
   },
   "outputs": [],
   "source": []
  },
  {
   "cell_type": "code",
   "execution_count": null,
   "metadata": {
    "collapsed": false
   },
   "outputs": [],
   "source": []
  },
  {
   "cell_type": "code",
   "execution_count": null,
   "metadata": {
    "collapsed": true
   },
   "outputs": [],
   "source": []
  }
 ],
 "metadata": {
  "anaconda-cloud": {},
  "kernelspec": {
   "display_name": "Python [default]",
   "language": "python",
   "name": "python2"
  },
  "language_info": {
   "codemirror_mode": {
    "name": "ipython",
    "version": 2
   },
   "file_extension": ".py",
   "mimetype": "text/x-python",
   "name": "python",
   "nbconvert_exporter": "python",
   "pygments_lexer": "ipython2",
   "version": "2.7.12"
  }
 },
 "nbformat": 4,
 "nbformat_minor": 1
}
