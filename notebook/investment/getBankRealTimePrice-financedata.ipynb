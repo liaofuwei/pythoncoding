{
 "cells": [
  {
   "cell_type": "code",
   "execution_count": 2,
   "metadata": {
    "collapsed": true
   },
   "outputs": [],
   "source": [
    "import tushare as ts\n",
    "import pandas as pd\n",
    "\n",
    "import sys\n",
    "default_encoding = 'utf-8'\n",
    "if sys.getdefaultencoding() != default_encoding:\n",
    "    reload(sys)\n",
    "    sys.setdefaultencoding(default_encoding)\n",
    "\n",
    "#按季度获取基本业绩数据，参数为（年份，季度）\n",
    "newFinanceDataAll=ts.get_report_data(2014,4)\n"
   ]
  },
  {
   "cell_type": "code",
   "execution_count": 8,
   "metadata": {
    "collapsed": false
   },
   "outputs": [],
   "source": [
    "stocklist=['601818','601398','601939','601009','601166','601328','600036','601998','601288','600000','601169','600015','601988','002142','000001','600016']\n",
    "newFd=newFinanceDataAll.set_index(\"code\")\n",
    "newFd=newFd.ix[stocklist,:]\n",
    "newFd=newFd.dropna(how=\"all\").ix[:,['name','eps','bvps','roe','net_profits']]\n",
    "newFd['net_profits']=newFd['net_profits']/10000\n",
    "newFd_len=len(newFd[\"name\"].index)\n",
    "for i in range(newFd_len):\n",
    "    newFd[\"name\"][i]=newFd[\"name\"][i].decode('utf-8').encode('gb2312')\n",
    "newFd.to_csv(\"c:\\\\pythoncoding\\\\data\\\\finance data\\\\2014_bank_finance_data.csv\")\n"
   ]
  },
  {
   "cell_type": "code",
   "execution_count": null,
   "metadata": {
    "collapsed": false
   },
   "outputs": [],
   "source": []
  },
  {
   "cell_type": "code",
   "execution_count": null,
   "metadata": {
    "collapsed": false
   },
   "outputs": [],
   "source": [
    "#需要获得数据的股票代码，放在stocklist中\n",
    "stocklist=['601818','601398','601939','601009','601166','601328','600036','601998','601288','600000','601169','600015','601988','002142','000001','600016']\n",
    "#newFd=newFinanceDataAll.set_index(\"code\")\n",
    "\n",
    "#newFinanceDataAll.columns=['code','name','EPS','eps_yoy','bvps','roe','epcf','net_profits','profits_yoy','distrib','report_date']\n",
    "newFinanceDataAll[\"net_profits\"]=newFinanceDataAll[\"net_profits\"]/10000 #将净利润按亿为单位\n",
    "newFd=newFinanceDataAll.ix[stocklist,['code','name','bvps','roe','EPS','net_profits']]\n",
    "stockpriceonly=stockprice.ix[:,[\"name\",\"price\"]]\n",
    "bankdata=pd.merge(newFd,stockpriceonly,on=\"name\")\n",
    "bankdata\n",
    "\n"
   ]
  },
  {
   "cell_type": "code",
   "execution_count": null,
   "metadata": {
    "collapsed": false,
    "scrolled": true
   },
   "outputs": [],
   "source": [
    "bankPB=bankdata['price']/bankdata['bvps']"
   ]
  },
  {
   "cell_type": "code",
   "execution_count": null,
   "metadata": {
    "collapsed": true
   },
   "outputs": [],
   "source": [
    "'''\n",
    "newFd.columns=['name','EPS','eps_yoy','bvps','roe','epcf','net_profits','profits_yoy','distrib','report_date']\n",
    "newFd[\"net_profits\"]=newFd[\"net_profits\"]/10000 #将净利润按亿为单位\n",
    "newFd=newFd.ix[stocklist,['name','bvps','roe','EPS','net_profits']]\n",
    "stockprice=ts.get_realtime_quotes(stocklist)\n",
    "stockpriceonly=stockprice.ix[:,[\"name\",\"price\"]]\n",
    "bankdata=pd.merge(newFd,stockpriceonly,on=\"name\",how=\"outer\")\n",
    "bankdata\n",
    "'''"
   ]
  },
  {
   "cell_type": "code",
   "execution_count": null,
   "metadata": {
    "collapsed": true
   },
   "outputs": [],
   "source": [
    "stocklistlen=len(stocklist)\n",
    "for i in range(stocklistlen):\n",
    "    temp=newFinanceDataAll.ix[newFinanceDataAll['code']==stocklist[i]]\n",
    "    newFd=pd.merge(newFd,temp)\n",
    "    print newFd"
   ]
  }
 ],
 "metadata": {
  "kernelspec": {
   "display_name": "Python [default]",
   "language": "python",
   "name": "python2"
  },
  "language_info": {
   "codemirror_mode": {
    "name": "ipython",
    "version": 2
   },
   "file_extension": ".py",
   "mimetype": "text/x-python",
   "name": "python",
   "nbconvert_exporter": "python",
   "pygments_lexer": "ipython2",
   "version": "2.7.12"
  }
 },
 "nbformat": 4,
 "nbformat_minor": 0
}
