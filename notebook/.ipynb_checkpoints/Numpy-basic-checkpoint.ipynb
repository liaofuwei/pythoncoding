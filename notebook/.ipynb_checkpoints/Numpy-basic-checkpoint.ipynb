{
 "cells": [
  {
   "cell_type": "code",
   "execution_count": 20,
   "metadata": {
    "collapsed": false
   },
   "outputs": [],
   "source": [
    "#生成一个array的方法\n",
    "import numpy as np\n",
    "#创建一个list，利用list赋值\n",
    "alist=[1,2,3]\n",
    "arr=np.array(alist)\n",
    "\n",
    "#创建一个全零向量\n",
    "arr1=np.zeros(5)\n",
    "\n",
    "#创建一个从0-9的向量\n",
    "arr2=np.arange(10)\n",
    "\n",
    "#或者5-14的向量,注意！！！end\n",
    "arr3=np.arange(5,15)\n",
    "\n",
    "#从0到10，均分5份\n",
    "arr4=np.linspace(0,10,5)\n",
    "\n",
    "#创建5X5 array of zeros\n",
    "image=np.zeros((5,5))\n",
    "image\n",
    "\n",
    "#创建5X5X5的cube of 1’s,the astype()method 设置元素的数据类型\n",
    "cube=np.zeros((5,5,5)).astype(int)+1"
   ]
  },
  {
   "cell_type": "code",
   "execution_count": null,
   "metadata": {
    "collapsed": true
   },
   "outputs": [],
   "source": [
    "#在生成一个arrays时，如果没有明确说明类型，是按照操作系统的特点来确定，比如64-bit的系统，生成的精度为64位\n",
    "#一般来说，没有必要，这需要耗费很多的内存，所以可以根据需求，设置不同的数据类型，方法如下：\n",
    "arr5=np.ze"
   ]
  }
 ],
 "metadata": {
  "kernelspec": {
   "display_name": "Python 2",
   "language": "python",
   "name": "python2"
  },
  "language_info": {
   "codemirror_mode": {
    "name": "ipython",
    "version": 2
   },
   "file_extension": ".py",
   "mimetype": "text/x-python",
   "name": "python",
   "nbconvert_exporter": "python",
   "pygments_lexer": "ipython2",
   "version": "2.7.9"
  }
 },
 "nbformat": 4,
 "nbformat_minor": 0
}
