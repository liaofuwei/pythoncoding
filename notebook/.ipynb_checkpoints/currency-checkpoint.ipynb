{
 "cells": [
  {
   "cell_type": "code",
   "execution_count": 2,
   "metadata": {
    "collapsed": false
   },
   "outputs": [],
   "source": [
    "import pandas as pd\n",
    "import datetime\n",
    "import matplotlib.pyplot as plt\n",
    "import numpy as np\n",
    "\n"
   ]
  },
  {
   "cell_type": "code",
   "execution_count": null,
   "metadata": {
    "collapsed": true
   },
   "outputs": [],
   "source": [
    "#获取国债数据\n",
    "t0m = pd.read_csv(\"c:\\\\pythoncoding\\\\data\\\\treasury data\\\\0y.csv\",index_col=\"date\")\n",
    "t1m = pd.read_csv(\"c:\\\\pythoncoding\\\\data\\\\treasury data\\\\1m.csv\",index_col=\"date\")\n",
    "t1y = pd.read_csv(\"c:\\\\pythoncoding\\\\data\\\\treasury data\\\\1y.csv\",index_col=\"date\")\n",
    "t3y = pd.read_csv(\"c:\\\\pythoncoding\\\\data\\\\treasury data\\\\3y.csv\",index_col=\"date\")\n",
    "t5y = pd.read_csv(\"c:\\\\pythoncoding\\\\data\\\\treasury data\\\\5y.csv\",index_col=\"date\")\n",
    "t7y = pd.read_csv(\"c:\\\\pythoncoding\\\\data\\\\treasury data\\\\7y.csv\",index_col=\"date\")\n",
    "t10y = pd.read_csv(\"c:\\\\pythoncoding\\\\data\\\\treasury data\\\\10y.csv\",index_col=\"date\")\n",
    "\n",
    "tmp = pd.merge(t0m,t1m,left_index=True,right_index=True)\n",
    "\n",
    "tmp = pd.merge(tmp,t1y,left_index=True,right_index=True)\n",
    "\n",
    "tmp = pd.merge(tmp,t3y,left_index=True,right_index=True)\n",
    "\n",
    "tmp = pd.merge(tmp,t5y,left_index=True,right_index=True)\n",
    "\n",
    "tmp = pd.merge(tmp,t7y,left_index=True,right_index=True)\n",
    "\n",
    "treasury = pd.merge(tmp,t10y,left_index=True,right_index=True)\n",
    "\n",
    "treasury.ix[\"2014-01-01\":,[\"5y\",\"10y\"]].plot()\n",
    "\n",
    "plt.show()"
   ]
  },
  {
   "cell_type": "code",
   "execution_count": 15,
   "metadata": {
    "collapsed": false,
    "scrolled": true
   },
   "outputs": [
    {
     "name": "stdout",
     "output_type": "stream",
     "text": [
      "            1y:deposit\n",
      "2000-01-01         NaN\n",
      "2000-01-02         NaN\n",
      "2000-01-03         NaN\n",
      "2000-01-04         NaN\n",
      "2000-01-05         NaN\n",
      "2000-01-06         NaN\n",
      "2000-01-07         NaN\n",
      "2000-01-08         NaN\n",
      "2000-01-09         NaN\n",
      "2000-01-10         NaN\n",
      "2000-01-11         NaN\n",
      "2000-01-12         NaN\n",
      "2000-01-13         NaN\n",
      "2000-01-14         NaN\n",
      "2000-01-15         NaN\n",
      "2000-01-16         NaN\n",
      "2000-01-17         NaN\n",
      "2000-01-18         NaN\n",
      "2000-01-19         NaN\n",
      "2000-01-20         NaN\n",
      "2000-01-21         NaN\n",
      "2000-01-22         NaN\n",
      "2000-01-23         NaN\n",
      "2000-01-24         NaN\n",
      "2000-01-25         NaN\n",
      "2000-01-26         NaN\n",
      "2000-01-27         NaN\n",
      "2000-01-28         NaN\n",
      "2000-01-29         NaN\n",
      "2000-01-30         NaN\n",
      "...                ...\n",
      "2016-03-02         NaN\n",
      "2016-03-03         NaN\n",
      "2016-03-04         NaN\n",
      "2016-03-05         NaN\n",
      "2016-03-06         NaN\n",
      "2016-03-07         NaN\n",
      "2016-03-08         NaN\n",
      "2016-03-09         NaN\n",
      "2016-03-10         NaN\n",
      "2016-03-11         NaN\n",
      "2016-03-12         NaN\n",
      "2016-03-13         NaN\n",
      "2016-03-14         NaN\n",
      "2016-03-15         NaN\n",
      "2016-03-16         NaN\n",
      "2016-03-17         NaN\n",
      "2016-03-18         NaN\n",
      "2016-03-19         NaN\n",
      "2016-03-20         NaN\n",
      "2016-03-21         NaN\n",
      "2016-03-22         NaN\n",
      "2016-03-23         NaN\n",
      "2016-03-24         NaN\n",
      "2016-03-25         NaN\n",
      "2016-03-26         NaN\n",
      "2016-03-27         NaN\n",
      "2016-03-28         NaN\n",
      "2016-03-29         NaN\n",
      "2016-03-30         NaN\n",
      "2016-03-31         NaN\n",
      "\n",
      "[5935 rows x 1 columns]\n"
     ]
    }
   ],
   "source": [
    "#获取利率，cpi数据,及利率与cpi关系图\n",
    "deposit = pd.read_csv(\"c:\\\\pythoncoding\\\\data\\\\money\\\\1ydeposit.csv\",index_col=\"date\")\n",
    "deposit.index = pd.to_datetime(deposit.index)\n",
    "\n",
    "cpi = pd.read_csv(\"c:\\\\pythoncoding\\\\data\\\\money\\\\cpi_yoy.csv\",index_col=\"date\")\n",
    "cpi.index = pd.to_datetime(cpi.index)\n",
    "\n",
    "standard = pd.read_csv(\"c:\\\\pythoncoding\\\\data\\\\money\\\\standard.csv\",index_col=\"date\")\n",
    "standard.index = pd.to_datetime(standard.index)\n",
    "\n",
    "deposit_full = pd.merge(standard,deposit,left_index=True,right_index=True,how=\"outer\")\n",
    "deposit_full = deposit_full.ix[\"2000-01-01\":\"2016-03-31\",[\"1y:deposit\"]]\n",
    "deposit_full = deposit_full.fillna(method=\"ffill\")\n",
    "\n",
    "cpi_full = pd.merge(standard,cpi,left_index=True,right_index=True,how=\"outer\")\n",
    "cpi_full = cpi_full.ix[\"2000-01-01\":\"2016-03-31\",[\"cpi:yoy\"]]\n",
    "cpi_full = cpi_full.fillna(method=\"ffill\")\n",
    "\n",
    "depositVscpi = pd.merge(cpi_full,deposit_full,left_index=True,right_index=True)\n",
    "depositVscpi = depositVscpi.ix[\"2001-01-01\":\"2016-03-31\",[\"cpi:yoy\",\"1y:deposit\"]]\n",
    "depositVscpi.plot()\n",
    "plt.show()\n",
    "#deposit_full.to_csv(\"c:\\\\pythoncoding\\\\data\\\\money\\\\deposit_full.csv\")\n",
    "#cpi_full.to_csv(\"c:\\\\pythoncoding\\\\data\\\\money\\\\cpi_full.csv\")"
   ]
  },
  {
   "cell_type": "code",
   "execution_count": null,
   "metadata": {
    "collapsed": true
   },
   "outputs": [],
   "source": []
  }
 ],
 "metadata": {
  "kernelspec": {
   "display_name": "Python 2",
   "language": "python",
   "name": "python2"
  },
  "language_info": {
   "codemirror_mode": {
    "name": "ipython",
    "version": 2
   },
   "file_extension": ".py",
   "mimetype": "text/x-python",
   "name": "python",
   "nbconvert_exporter": "python",
   "pygments_lexer": "ipython2",
   "version": "2.7.10"
  }
 },
 "nbformat": 4,
 "nbformat_minor": 0
}
